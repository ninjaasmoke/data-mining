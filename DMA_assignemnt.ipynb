{
  "nbformat": 4,
  "nbformat_minor": 0,
  "metadata": {
    "colab": {
      "provenance": [],
      "collapsed_sections": [
        "BStA5cvGG731"
      ],
      "toc_visible": true
    },
    "kernelspec": {
      "name": "python3",
      "display_name": "Python 3"
    },
    "language_info": {
      "name": "python"
    },
    "widgets": {
      "application/vnd.jupyter.widget-state+json": {
        "bb6a942fce074c89b8d1a305337272ec": {
          "model_module": "@jupyter-widgets/controls",
          "model_name": "HBoxModel",
          "model_module_version": "1.5.0",
          "state": {
            "_dom_classes": [],
            "_model_module": "@jupyter-widgets/controls",
            "_model_module_version": "1.5.0",
            "_model_name": "HBoxModel",
            "_view_count": null,
            "_view_module": "@jupyter-widgets/controls",
            "_view_module_version": "1.5.0",
            "_view_name": "HBoxView",
            "box_style": "",
            "children": [
              "IPY_MODEL_bf564e27f3aa40cda9bdfbb905ebbd36",
              "IPY_MODEL_457fe63a408745159f22e9baa853e14a",
              "IPY_MODEL_96bad0ec0f544e17aec3ee2cc28390f5"
            ],
            "layout": "IPY_MODEL_7edc1f1077ce45dc80b64def4c6b0bc7"
          }
        },
        "bf564e27f3aa40cda9bdfbb905ebbd36": {
          "model_module": "@jupyter-widgets/controls",
          "model_name": "HTMLModel",
          "model_module_version": "1.5.0",
          "state": {
            "_dom_classes": [],
            "_model_module": "@jupyter-widgets/controls",
            "_model_module_version": "1.5.0",
            "_model_name": "HTMLModel",
            "_view_count": null,
            "_view_module": "@jupyter-widgets/controls",
            "_view_module_version": "1.5.0",
            "_view_name": "HTMLView",
            "description": "",
            "description_tooltip": null,
            "layout": "IPY_MODEL_144d7db8d46d4e7b83f5ed765f02f1ef",
            "placeholder": "​",
            "style": "IPY_MODEL_9d6285565ffa4d0e8fd9b77143f14be4",
            "value": "tokenizer_config.json: 100%"
          }
        },
        "457fe63a408745159f22e9baa853e14a": {
          "model_module": "@jupyter-widgets/controls",
          "model_name": "FloatProgressModel",
          "model_module_version": "1.5.0",
          "state": {
            "_dom_classes": [],
            "_model_module": "@jupyter-widgets/controls",
            "_model_module_version": "1.5.0",
            "_model_name": "FloatProgressModel",
            "_view_count": null,
            "_view_module": "@jupyter-widgets/controls",
            "_view_module_version": "1.5.0",
            "_view_name": "ProgressView",
            "bar_style": "success",
            "description": "",
            "description_tooltip": null,
            "layout": "IPY_MODEL_d5f9a15b06d24dd2a54c2f150417487c",
            "max": 48,
            "min": 0,
            "orientation": "horizontal",
            "style": "IPY_MODEL_cc1c21150f474678802133e93c3a9ee0",
            "value": 48
          }
        },
        "96bad0ec0f544e17aec3ee2cc28390f5": {
          "model_module": "@jupyter-widgets/controls",
          "model_name": "HTMLModel",
          "model_module_version": "1.5.0",
          "state": {
            "_dom_classes": [],
            "_model_module": "@jupyter-widgets/controls",
            "_model_module_version": "1.5.0",
            "_model_name": "HTMLModel",
            "_view_count": null,
            "_view_module": "@jupyter-widgets/controls",
            "_view_module_version": "1.5.0",
            "_view_name": "HTMLView",
            "description": "",
            "description_tooltip": null,
            "layout": "IPY_MODEL_a9bee99ccd574a45839186941294abb1",
            "placeholder": "​",
            "style": "IPY_MODEL_7b964d4a0f024848b1da15f7a576b852",
            "value": " 48.0/48.0 [00:00&lt;00:00, 1.05kB/s]"
          }
        },
        "7edc1f1077ce45dc80b64def4c6b0bc7": {
          "model_module": "@jupyter-widgets/base",
          "model_name": "LayoutModel",
          "model_module_version": "1.2.0",
          "state": {
            "_model_module": "@jupyter-widgets/base",
            "_model_module_version": "1.2.0",
            "_model_name": "LayoutModel",
            "_view_count": null,
            "_view_module": "@jupyter-widgets/base",
            "_view_module_version": "1.2.0",
            "_view_name": "LayoutView",
            "align_content": null,
            "align_items": null,
            "align_self": null,
            "border": null,
            "bottom": null,
            "display": null,
            "flex": null,
            "flex_flow": null,
            "grid_area": null,
            "grid_auto_columns": null,
            "grid_auto_flow": null,
            "grid_auto_rows": null,
            "grid_column": null,
            "grid_gap": null,
            "grid_row": null,
            "grid_template_areas": null,
            "grid_template_columns": null,
            "grid_template_rows": null,
            "height": null,
            "justify_content": null,
            "justify_items": null,
            "left": null,
            "margin": null,
            "max_height": null,
            "max_width": null,
            "min_height": null,
            "min_width": null,
            "object_fit": null,
            "object_position": null,
            "order": null,
            "overflow": null,
            "overflow_x": null,
            "overflow_y": null,
            "padding": null,
            "right": null,
            "top": null,
            "visibility": null,
            "width": null
          }
        },
        "144d7db8d46d4e7b83f5ed765f02f1ef": {
          "model_module": "@jupyter-widgets/base",
          "model_name": "LayoutModel",
          "model_module_version": "1.2.0",
          "state": {
            "_model_module": "@jupyter-widgets/base",
            "_model_module_version": "1.2.0",
            "_model_name": "LayoutModel",
            "_view_count": null,
            "_view_module": "@jupyter-widgets/base",
            "_view_module_version": "1.2.0",
            "_view_name": "LayoutView",
            "align_content": null,
            "align_items": null,
            "align_self": null,
            "border": null,
            "bottom": null,
            "display": null,
            "flex": null,
            "flex_flow": null,
            "grid_area": null,
            "grid_auto_columns": null,
            "grid_auto_flow": null,
            "grid_auto_rows": null,
            "grid_column": null,
            "grid_gap": null,
            "grid_row": null,
            "grid_template_areas": null,
            "grid_template_columns": null,
            "grid_template_rows": null,
            "height": null,
            "justify_content": null,
            "justify_items": null,
            "left": null,
            "margin": null,
            "max_height": null,
            "max_width": null,
            "min_height": null,
            "min_width": null,
            "object_fit": null,
            "object_position": null,
            "order": null,
            "overflow": null,
            "overflow_x": null,
            "overflow_y": null,
            "padding": null,
            "right": null,
            "top": null,
            "visibility": null,
            "width": null
          }
        },
        "9d6285565ffa4d0e8fd9b77143f14be4": {
          "model_module": "@jupyter-widgets/controls",
          "model_name": "DescriptionStyleModel",
          "model_module_version": "1.5.0",
          "state": {
            "_model_module": "@jupyter-widgets/controls",
            "_model_module_version": "1.5.0",
            "_model_name": "DescriptionStyleModel",
            "_view_count": null,
            "_view_module": "@jupyter-widgets/base",
            "_view_module_version": "1.2.0",
            "_view_name": "StyleView",
            "description_width": ""
          }
        },
        "d5f9a15b06d24dd2a54c2f150417487c": {
          "model_module": "@jupyter-widgets/base",
          "model_name": "LayoutModel",
          "model_module_version": "1.2.0",
          "state": {
            "_model_module": "@jupyter-widgets/base",
            "_model_module_version": "1.2.0",
            "_model_name": "LayoutModel",
            "_view_count": null,
            "_view_module": "@jupyter-widgets/base",
            "_view_module_version": "1.2.0",
            "_view_name": "LayoutView",
            "align_content": null,
            "align_items": null,
            "align_self": null,
            "border": null,
            "bottom": null,
            "display": null,
            "flex": null,
            "flex_flow": null,
            "grid_area": null,
            "grid_auto_columns": null,
            "grid_auto_flow": null,
            "grid_auto_rows": null,
            "grid_column": null,
            "grid_gap": null,
            "grid_row": null,
            "grid_template_areas": null,
            "grid_template_columns": null,
            "grid_template_rows": null,
            "height": null,
            "justify_content": null,
            "justify_items": null,
            "left": null,
            "margin": null,
            "max_height": null,
            "max_width": null,
            "min_height": null,
            "min_width": null,
            "object_fit": null,
            "object_position": null,
            "order": null,
            "overflow": null,
            "overflow_x": null,
            "overflow_y": null,
            "padding": null,
            "right": null,
            "top": null,
            "visibility": null,
            "width": null
          }
        },
        "cc1c21150f474678802133e93c3a9ee0": {
          "model_module": "@jupyter-widgets/controls",
          "model_name": "ProgressStyleModel",
          "model_module_version": "1.5.0",
          "state": {
            "_model_module": "@jupyter-widgets/controls",
            "_model_module_version": "1.5.0",
            "_model_name": "ProgressStyleModel",
            "_view_count": null,
            "_view_module": "@jupyter-widgets/base",
            "_view_module_version": "1.2.0",
            "_view_name": "StyleView",
            "bar_color": null,
            "description_width": ""
          }
        },
        "a9bee99ccd574a45839186941294abb1": {
          "model_module": "@jupyter-widgets/base",
          "model_name": "LayoutModel",
          "model_module_version": "1.2.0",
          "state": {
            "_model_module": "@jupyter-widgets/base",
            "_model_module_version": "1.2.0",
            "_model_name": "LayoutModel",
            "_view_count": null,
            "_view_module": "@jupyter-widgets/base",
            "_view_module_version": "1.2.0",
            "_view_name": "LayoutView",
            "align_content": null,
            "align_items": null,
            "align_self": null,
            "border": null,
            "bottom": null,
            "display": null,
            "flex": null,
            "flex_flow": null,
            "grid_area": null,
            "grid_auto_columns": null,
            "grid_auto_flow": null,
            "grid_auto_rows": null,
            "grid_column": null,
            "grid_gap": null,
            "grid_row": null,
            "grid_template_areas": null,
            "grid_template_columns": null,
            "grid_template_rows": null,
            "height": null,
            "justify_content": null,
            "justify_items": null,
            "left": null,
            "margin": null,
            "max_height": null,
            "max_width": null,
            "min_height": null,
            "min_width": null,
            "object_fit": null,
            "object_position": null,
            "order": null,
            "overflow": null,
            "overflow_x": null,
            "overflow_y": null,
            "padding": null,
            "right": null,
            "top": null,
            "visibility": null,
            "width": null
          }
        },
        "7b964d4a0f024848b1da15f7a576b852": {
          "model_module": "@jupyter-widgets/controls",
          "model_name": "DescriptionStyleModel",
          "model_module_version": "1.5.0",
          "state": {
            "_model_module": "@jupyter-widgets/controls",
            "_model_module_version": "1.5.0",
            "_model_name": "DescriptionStyleModel",
            "_view_count": null,
            "_view_module": "@jupyter-widgets/base",
            "_view_module_version": "1.2.0",
            "_view_name": "StyleView",
            "description_width": ""
          }
        },
        "cc125c480dcd415586c7ef4c3f970059": {
          "model_module": "@jupyter-widgets/controls",
          "model_name": "HBoxModel",
          "model_module_version": "1.5.0",
          "state": {
            "_dom_classes": [],
            "_model_module": "@jupyter-widgets/controls",
            "_model_module_version": "1.5.0",
            "_model_name": "HBoxModel",
            "_view_count": null,
            "_view_module": "@jupyter-widgets/controls",
            "_view_module_version": "1.5.0",
            "_view_name": "HBoxView",
            "box_style": "",
            "children": [
              "IPY_MODEL_69021db12aef4f3db91adac87e7f03eb",
              "IPY_MODEL_47553a126c59469588e7f3f984e02593",
              "IPY_MODEL_48522b4b01de4c9db1054f395c7c07a1"
            ],
            "layout": "IPY_MODEL_19f89439cfa74c61b7e9b9cd333edcc1"
          }
        },
        "69021db12aef4f3db91adac87e7f03eb": {
          "model_module": "@jupyter-widgets/controls",
          "model_name": "HTMLModel",
          "model_module_version": "1.5.0",
          "state": {
            "_dom_classes": [],
            "_model_module": "@jupyter-widgets/controls",
            "_model_module_version": "1.5.0",
            "_model_name": "HTMLModel",
            "_view_count": null,
            "_view_module": "@jupyter-widgets/controls",
            "_view_module_version": "1.5.0",
            "_view_name": "HTMLView",
            "description": "",
            "description_tooltip": null,
            "layout": "IPY_MODEL_cd1e07bcef5d45a4aecf5de0fa3b123a",
            "placeholder": "​",
            "style": "IPY_MODEL_e5bfaa8156a9418bb602315d2d0dc852",
            "value": "vocab.txt: 100%"
          }
        },
        "47553a126c59469588e7f3f984e02593": {
          "model_module": "@jupyter-widgets/controls",
          "model_name": "FloatProgressModel",
          "model_module_version": "1.5.0",
          "state": {
            "_dom_classes": [],
            "_model_module": "@jupyter-widgets/controls",
            "_model_module_version": "1.5.0",
            "_model_name": "FloatProgressModel",
            "_view_count": null,
            "_view_module": "@jupyter-widgets/controls",
            "_view_module_version": "1.5.0",
            "_view_name": "ProgressView",
            "bar_style": "success",
            "description": "",
            "description_tooltip": null,
            "layout": "IPY_MODEL_5c04ebf75ba345678c16431cf21052fd",
            "max": 231508,
            "min": 0,
            "orientation": "horizontal",
            "style": "IPY_MODEL_29346ec24fc1466a8c4cc2eaae7391a5",
            "value": 231508
          }
        },
        "48522b4b01de4c9db1054f395c7c07a1": {
          "model_module": "@jupyter-widgets/controls",
          "model_name": "HTMLModel",
          "model_module_version": "1.5.0",
          "state": {
            "_dom_classes": [],
            "_model_module": "@jupyter-widgets/controls",
            "_model_module_version": "1.5.0",
            "_model_name": "HTMLModel",
            "_view_count": null,
            "_view_module": "@jupyter-widgets/controls",
            "_view_module_version": "1.5.0",
            "_view_name": "HTMLView",
            "description": "",
            "description_tooltip": null,
            "layout": "IPY_MODEL_8edd77ae5eb840bba9ed5914f2f97d68",
            "placeholder": "​",
            "style": "IPY_MODEL_d1f76db82578446f9794f634439c906c",
            "value": " 232k/232k [00:00&lt;00:00, 2.97MB/s]"
          }
        },
        "19f89439cfa74c61b7e9b9cd333edcc1": {
          "model_module": "@jupyter-widgets/base",
          "model_name": "LayoutModel",
          "model_module_version": "1.2.0",
          "state": {
            "_model_module": "@jupyter-widgets/base",
            "_model_module_version": "1.2.0",
            "_model_name": "LayoutModel",
            "_view_count": null,
            "_view_module": "@jupyter-widgets/base",
            "_view_module_version": "1.2.0",
            "_view_name": "LayoutView",
            "align_content": null,
            "align_items": null,
            "align_self": null,
            "border": null,
            "bottom": null,
            "display": null,
            "flex": null,
            "flex_flow": null,
            "grid_area": null,
            "grid_auto_columns": null,
            "grid_auto_flow": null,
            "grid_auto_rows": null,
            "grid_column": null,
            "grid_gap": null,
            "grid_row": null,
            "grid_template_areas": null,
            "grid_template_columns": null,
            "grid_template_rows": null,
            "height": null,
            "justify_content": null,
            "justify_items": null,
            "left": null,
            "margin": null,
            "max_height": null,
            "max_width": null,
            "min_height": null,
            "min_width": null,
            "object_fit": null,
            "object_position": null,
            "order": null,
            "overflow": null,
            "overflow_x": null,
            "overflow_y": null,
            "padding": null,
            "right": null,
            "top": null,
            "visibility": null,
            "width": null
          }
        },
        "cd1e07bcef5d45a4aecf5de0fa3b123a": {
          "model_module": "@jupyter-widgets/base",
          "model_name": "LayoutModel",
          "model_module_version": "1.2.0",
          "state": {
            "_model_module": "@jupyter-widgets/base",
            "_model_module_version": "1.2.0",
            "_model_name": "LayoutModel",
            "_view_count": null,
            "_view_module": "@jupyter-widgets/base",
            "_view_module_version": "1.2.0",
            "_view_name": "LayoutView",
            "align_content": null,
            "align_items": null,
            "align_self": null,
            "border": null,
            "bottom": null,
            "display": null,
            "flex": null,
            "flex_flow": null,
            "grid_area": null,
            "grid_auto_columns": null,
            "grid_auto_flow": null,
            "grid_auto_rows": null,
            "grid_column": null,
            "grid_gap": null,
            "grid_row": null,
            "grid_template_areas": null,
            "grid_template_columns": null,
            "grid_template_rows": null,
            "height": null,
            "justify_content": null,
            "justify_items": null,
            "left": null,
            "margin": null,
            "max_height": null,
            "max_width": null,
            "min_height": null,
            "min_width": null,
            "object_fit": null,
            "object_position": null,
            "order": null,
            "overflow": null,
            "overflow_x": null,
            "overflow_y": null,
            "padding": null,
            "right": null,
            "top": null,
            "visibility": null,
            "width": null
          }
        },
        "e5bfaa8156a9418bb602315d2d0dc852": {
          "model_module": "@jupyter-widgets/controls",
          "model_name": "DescriptionStyleModel",
          "model_module_version": "1.5.0",
          "state": {
            "_model_module": "@jupyter-widgets/controls",
            "_model_module_version": "1.5.0",
            "_model_name": "DescriptionStyleModel",
            "_view_count": null,
            "_view_module": "@jupyter-widgets/base",
            "_view_module_version": "1.2.0",
            "_view_name": "StyleView",
            "description_width": ""
          }
        },
        "5c04ebf75ba345678c16431cf21052fd": {
          "model_module": "@jupyter-widgets/base",
          "model_name": "LayoutModel",
          "model_module_version": "1.2.0",
          "state": {
            "_model_module": "@jupyter-widgets/base",
            "_model_module_version": "1.2.0",
            "_model_name": "LayoutModel",
            "_view_count": null,
            "_view_module": "@jupyter-widgets/base",
            "_view_module_version": "1.2.0",
            "_view_name": "LayoutView",
            "align_content": null,
            "align_items": null,
            "align_self": null,
            "border": null,
            "bottom": null,
            "display": null,
            "flex": null,
            "flex_flow": null,
            "grid_area": null,
            "grid_auto_columns": null,
            "grid_auto_flow": null,
            "grid_auto_rows": null,
            "grid_column": null,
            "grid_gap": null,
            "grid_row": null,
            "grid_template_areas": null,
            "grid_template_columns": null,
            "grid_template_rows": null,
            "height": null,
            "justify_content": null,
            "justify_items": null,
            "left": null,
            "margin": null,
            "max_height": null,
            "max_width": null,
            "min_height": null,
            "min_width": null,
            "object_fit": null,
            "object_position": null,
            "order": null,
            "overflow": null,
            "overflow_x": null,
            "overflow_y": null,
            "padding": null,
            "right": null,
            "top": null,
            "visibility": null,
            "width": null
          }
        },
        "29346ec24fc1466a8c4cc2eaae7391a5": {
          "model_module": "@jupyter-widgets/controls",
          "model_name": "ProgressStyleModel",
          "model_module_version": "1.5.0",
          "state": {
            "_model_module": "@jupyter-widgets/controls",
            "_model_module_version": "1.5.0",
            "_model_name": "ProgressStyleModel",
            "_view_count": null,
            "_view_module": "@jupyter-widgets/base",
            "_view_module_version": "1.2.0",
            "_view_name": "StyleView",
            "bar_color": null,
            "description_width": ""
          }
        },
        "8edd77ae5eb840bba9ed5914f2f97d68": {
          "model_module": "@jupyter-widgets/base",
          "model_name": "LayoutModel",
          "model_module_version": "1.2.0",
          "state": {
            "_model_module": "@jupyter-widgets/base",
            "_model_module_version": "1.2.0",
            "_model_name": "LayoutModel",
            "_view_count": null,
            "_view_module": "@jupyter-widgets/base",
            "_view_module_version": "1.2.0",
            "_view_name": "LayoutView",
            "align_content": null,
            "align_items": null,
            "align_self": null,
            "border": null,
            "bottom": null,
            "display": null,
            "flex": null,
            "flex_flow": null,
            "grid_area": null,
            "grid_auto_columns": null,
            "grid_auto_flow": null,
            "grid_auto_rows": null,
            "grid_column": null,
            "grid_gap": null,
            "grid_row": null,
            "grid_template_areas": null,
            "grid_template_columns": null,
            "grid_template_rows": null,
            "height": null,
            "justify_content": null,
            "justify_items": null,
            "left": null,
            "margin": null,
            "max_height": null,
            "max_width": null,
            "min_height": null,
            "min_width": null,
            "object_fit": null,
            "object_position": null,
            "order": null,
            "overflow": null,
            "overflow_x": null,
            "overflow_y": null,
            "padding": null,
            "right": null,
            "top": null,
            "visibility": null,
            "width": null
          }
        },
        "d1f76db82578446f9794f634439c906c": {
          "model_module": "@jupyter-widgets/controls",
          "model_name": "DescriptionStyleModel",
          "model_module_version": "1.5.0",
          "state": {
            "_model_module": "@jupyter-widgets/controls",
            "_model_module_version": "1.5.0",
            "_model_name": "DescriptionStyleModel",
            "_view_count": null,
            "_view_module": "@jupyter-widgets/base",
            "_view_module_version": "1.2.0",
            "_view_name": "StyleView",
            "description_width": ""
          }
        },
        "84d9e84d4bfa48b2b78f719ce7efc974": {
          "model_module": "@jupyter-widgets/controls",
          "model_name": "HBoxModel",
          "model_module_version": "1.5.0",
          "state": {
            "_dom_classes": [],
            "_model_module": "@jupyter-widgets/controls",
            "_model_module_version": "1.5.0",
            "_model_name": "HBoxModel",
            "_view_count": null,
            "_view_module": "@jupyter-widgets/controls",
            "_view_module_version": "1.5.0",
            "_view_name": "HBoxView",
            "box_style": "",
            "children": [
              "IPY_MODEL_4879f12dda834b79a9c418dd52189d57",
              "IPY_MODEL_cfd7f70fbc3e45f381747ca681cc9a6a",
              "IPY_MODEL_6c0ac88e8bb646328dd150ecfa6d6d06"
            ],
            "layout": "IPY_MODEL_f619621e7fa94657bae588525e688b75"
          }
        },
        "4879f12dda834b79a9c418dd52189d57": {
          "model_module": "@jupyter-widgets/controls",
          "model_name": "HTMLModel",
          "model_module_version": "1.5.0",
          "state": {
            "_dom_classes": [],
            "_model_module": "@jupyter-widgets/controls",
            "_model_module_version": "1.5.0",
            "_model_name": "HTMLModel",
            "_view_count": null,
            "_view_module": "@jupyter-widgets/controls",
            "_view_module_version": "1.5.0",
            "_view_name": "HTMLView",
            "description": "",
            "description_tooltip": null,
            "layout": "IPY_MODEL_408cd8ee30e249fea85b1cc5862672e6",
            "placeholder": "​",
            "style": "IPY_MODEL_d3db075037fa4534b8e1345a8e433b5d",
            "value": "tokenizer.json: 100%"
          }
        },
        "cfd7f70fbc3e45f381747ca681cc9a6a": {
          "model_module": "@jupyter-widgets/controls",
          "model_name": "FloatProgressModel",
          "model_module_version": "1.5.0",
          "state": {
            "_dom_classes": [],
            "_model_module": "@jupyter-widgets/controls",
            "_model_module_version": "1.5.0",
            "_model_name": "FloatProgressModel",
            "_view_count": null,
            "_view_module": "@jupyter-widgets/controls",
            "_view_module_version": "1.5.0",
            "_view_name": "ProgressView",
            "bar_style": "success",
            "description": "",
            "description_tooltip": null,
            "layout": "IPY_MODEL_f4347e12a16b458898c696e3a8f15030",
            "max": 466062,
            "min": 0,
            "orientation": "horizontal",
            "style": "IPY_MODEL_ae220845a81f4d29acd6427d7b5d6724",
            "value": 466062
          }
        },
        "6c0ac88e8bb646328dd150ecfa6d6d06": {
          "model_module": "@jupyter-widgets/controls",
          "model_name": "HTMLModel",
          "model_module_version": "1.5.0",
          "state": {
            "_dom_classes": [],
            "_model_module": "@jupyter-widgets/controls",
            "_model_module_version": "1.5.0",
            "_model_name": "HTMLModel",
            "_view_count": null,
            "_view_module": "@jupyter-widgets/controls",
            "_view_module_version": "1.5.0",
            "_view_name": "HTMLView",
            "description": "",
            "description_tooltip": null,
            "layout": "IPY_MODEL_c9e09502f9944d63a12b21366403781b",
            "placeholder": "​",
            "style": "IPY_MODEL_0b9b24bbe51d4fe1bcbd6b2e68d7c88b",
            "value": " 466k/466k [00:00&lt;00:00, 3.51MB/s]"
          }
        },
        "f619621e7fa94657bae588525e688b75": {
          "model_module": "@jupyter-widgets/base",
          "model_name": "LayoutModel",
          "model_module_version": "1.2.0",
          "state": {
            "_model_module": "@jupyter-widgets/base",
            "_model_module_version": "1.2.0",
            "_model_name": "LayoutModel",
            "_view_count": null,
            "_view_module": "@jupyter-widgets/base",
            "_view_module_version": "1.2.0",
            "_view_name": "LayoutView",
            "align_content": null,
            "align_items": null,
            "align_self": null,
            "border": null,
            "bottom": null,
            "display": null,
            "flex": null,
            "flex_flow": null,
            "grid_area": null,
            "grid_auto_columns": null,
            "grid_auto_flow": null,
            "grid_auto_rows": null,
            "grid_column": null,
            "grid_gap": null,
            "grid_row": null,
            "grid_template_areas": null,
            "grid_template_columns": null,
            "grid_template_rows": null,
            "height": null,
            "justify_content": null,
            "justify_items": null,
            "left": null,
            "margin": null,
            "max_height": null,
            "max_width": null,
            "min_height": null,
            "min_width": null,
            "object_fit": null,
            "object_position": null,
            "order": null,
            "overflow": null,
            "overflow_x": null,
            "overflow_y": null,
            "padding": null,
            "right": null,
            "top": null,
            "visibility": null,
            "width": null
          }
        },
        "408cd8ee30e249fea85b1cc5862672e6": {
          "model_module": "@jupyter-widgets/base",
          "model_name": "LayoutModel",
          "model_module_version": "1.2.0",
          "state": {
            "_model_module": "@jupyter-widgets/base",
            "_model_module_version": "1.2.0",
            "_model_name": "LayoutModel",
            "_view_count": null,
            "_view_module": "@jupyter-widgets/base",
            "_view_module_version": "1.2.0",
            "_view_name": "LayoutView",
            "align_content": null,
            "align_items": null,
            "align_self": null,
            "border": null,
            "bottom": null,
            "display": null,
            "flex": null,
            "flex_flow": null,
            "grid_area": null,
            "grid_auto_columns": null,
            "grid_auto_flow": null,
            "grid_auto_rows": null,
            "grid_column": null,
            "grid_gap": null,
            "grid_row": null,
            "grid_template_areas": null,
            "grid_template_columns": null,
            "grid_template_rows": null,
            "height": null,
            "justify_content": null,
            "justify_items": null,
            "left": null,
            "margin": null,
            "max_height": null,
            "max_width": null,
            "min_height": null,
            "min_width": null,
            "object_fit": null,
            "object_position": null,
            "order": null,
            "overflow": null,
            "overflow_x": null,
            "overflow_y": null,
            "padding": null,
            "right": null,
            "top": null,
            "visibility": null,
            "width": null
          }
        },
        "d3db075037fa4534b8e1345a8e433b5d": {
          "model_module": "@jupyter-widgets/controls",
          "model_name": "DescriptionStyleModel",
          "model_module_version": "1.5.0",
          "state": {
            "_model_module": "@jupyter-widgets/controls",
            "_model_module_version": "1.5.0",
            "_model_name": "DescriptionStyleModel",
            "_view_count": null,
            "_view_module": "@jupyter-widgets/base",
            "_view_module_version": "1.2.0",
            "_view_name": "StyleView",
            "description_width": ""
          }
        },
        "f4347e12a16b458898c696e3a8f15030": {
          "model_module": "@jupyter-widgets/base",
          "model_name": "LayoutModel",
          "model_module_version": "1.2.0",
          "state": {
            "_model_module": "@jupyter-widgets/base",
            "_model_module_version": "1.2.0",
            "_model_name": "LayoutModel",
            "_view_count": null,
            "_view_module": "@jupyter-widgets/base",
            "_view_module_version": "1.2.0",
            "_view_name": "LayoutView",
            "align_content": null,
            "align_items": null,
            "align_self": null,
            "border": null,
            "bottom": null,
            "display": null,
            "flex": null,
            "flex_flow": null,
            "grid_area": null,
            "grid_auto_columns": null,
            "grid_auto_flow": null,
            "grid_auto_rows": null,
            "grid_column": null,
            "grid_gap": null,
            "grid_row": null,
            "grid_template_areas": null,
            "grid_template_columns": null,
            "grid_template_rows": null,
            "height": null,
            "justify_content": null,
            "justify_items": null,
            "left": null,
            "margin": null,
            "max_height": null,
            "max_width": null,
            "min_height": null,
            "min_width": null,
            "object_fit": null,
            "object_position": null,
            "order": null,
            "overflow": null,
            "overflow_x": null,
            "overflow_y": null,
            "padding": null,
            "right": null,
            "top": null,
            "visibility": null,
            "width": null
          }
        },
        "ae220845a81f4d29acd6427d7b5d6724": {
          "model_module": "@jupyter-widgets/controls",
          "model_name": "ProgressStyleModel",
          "model_module_version": "1.5.0",
          "state": {
            "_model_module": "@jupyter-widgets/controls",
            "_model_module_version": "1.5.0",
            "_model_name": "ProgressStyleModel",
            "_view_count": null,
            "_view_module": "@jupyter-widgets/base",
            "_view_module_version": "1.2.0",
            "_view_name": "StyleView",
            "bar_color": null,
            "description_width": ""
          }
        },
        "c9e09502f9944d63a12b21366403781b": {
          "model_module": "@jupyter-widgets/base",
          "model_name": "LayoutModel",
          "model_module_version": "1.2.0",
          "state": {
            "_model_module": "@jupyter-widgets/base",
            "_model_module_version": "1.2.0",
            "_model_name": "LayoutModel",
            "_view_count": null,
            "_view_module": "@jupyter-widgets/base",
            "_view_module_version": "1.2.0",
            "_view_name": "LayoutView",
            "align_content": null,
            "align_items": null,
            "align_self": null,
            "border": null,
            "bottom": null,
            "display": null,
            "flex": null,
            "flex_flow": null,
            "grid_area": null,
            "grid_auto_columns": null,
            "grid_auto_flow": null,
            "grid_auto_rows": null,
            "grid_column": null,
            "grid_gap": null,
            "grid_row": null,
            "grid_template_areas": null,
            "grid_template_columns": null,
            "grid_template_rows": null,
            "height": null,
            "justify_content": null,
            "justify_items": null,
            "left": null,
            "margin": null,
            "max_height": null,
            "max_width": null,
            "min_height": null,
            "min_width": null,
            "object_fit": null,
            "object_position": null,
            "order": null,
            "overflow": null,
            "overflow_x": null,
            "overflow_y": null,
            "padding": null,
            "right": null,
            "top": null,
            "visibility": null,
            "width": null
          }
        },
        "0b9b24bbe51d4fe1bcbd6b2e68d7c88b": {
          "model_module": "@jupyter-widgets/controls",
          "model_name": "DescriptionStyleModel",
          "model_module_version": "1.5.0",
          "state": {
            "_model_module": "@jupyter-widgets/controls",
            "_model_module_version": "1.5.0",
            "_model_name": "DescriptionStyleModel",
            "_view_count": null,
            "_view_module": "@jupyter-widgets/base",
            "_view_module_version": "1.2.0",
            "_view_name": "StyleView",
            "description_width": ""
          }
        },
        "72a8dcf98c8c4b6f89e1f216bd7c4622": {
          "model_module": "@jupyter-widgets/controls",
          "model_name": "HBoxModel",
          "model_module_version": "1.5.0",
          "state": {
            "_dom_classes": [],
            "_model_module": "@jupyter-widgets/controls",
            "_model_module_version": "1.5.0",
            "_model_name": "HBoxModel",
            "_view_count": null,
            "_view_module": "@jupyter-widgets/controls",
            "_view_module_version": "1.5.0",
            "_view_name": "HBoxView",
            "box_style": "",
            "children": [
              "IPY_MODEL_0295e9f611a048ffb7a271e0a5aec9af",
              "IPY_MODEL_71cd586ad9ac4793a2863d96ecb956b7",
              "IPY_MODEL_d9eac170795a421091cef54ce6891cc9"
            ],
            "layout": "IPY_MODEL_fe5ad7f4854b4555aa080df18866f79a"
          }
        },
        "0295e9f611a048ffb7a271e0a5aec9af": {
          "model_module": "@jupyter-widgets/controls",
          "model_name": "HTMLModel",
          "model_module_version": "1.5.0",
          "state": {
            "_dom_classes": [],
            "_model_module": "@jupyter-widgets/controls",
            "_model_module_version": "1.5.0",
            "_model_name": "HTMLModel",
            "_view_count": null,
            "_view_module": "@jupyter-widgets/controls",
            "_view_module_version": "1.5.0",
            "_view_name": "HTMLView",
            "description": "",
            "description_tooltip": null,
            "layout": "IPY_MODEL_83e21d5a2cca465fa832155cc237147c",
            "placeholder": "​",
            "style": "IPY_MODEL_baec1998d597469089b4c5c97ef377b7",
            "value": "config.json: 100%"
          }
        },
        "71cd586ad9ac4793a2863d96ecb956b7": {
          "model_module": "@jupyter-widgets/controls",
          "model_name": "FloatProgressModel",
          "model_module_version": "1.5.0",
          "state": {
            "_dom_classes": [],
            "_model_module": "@jupyter-widgets/controls",
            "_model_module_version": "1.5.0",
            "_model_name": "FloatProgressModel",
            "_view_count": null,
            "_view_module": "@jupyter-widgets/controls",
            "_view_module_version": "1.5.0",
            "_view_name": "ProgressView",
            "bar_style": "success",
            "description": "",
            "description_tooltip": null,
            "layout": "IPY_MODEL_d12c934588024eb68563bc4ca17cf269",
            "max": 570,
            "min": 0,
            "orientation": "horizontal",
            "style": "IPY_MODEL_9bbebfe7fa5d42babf4550fa4081da3f",
            "value": 570
          }
        },
        "d9eac170795a421091cef54ce6891cc9": {
          "model_module": "@jupyter-widgets/controls",
          "model_name": "HTMLModel",
          "model_module_version": "1.5.0",
          "state": {
            "_dom_classes": [],
            "_model_module": "@jupyter-widgets/controls",
            "_model_module_version": "1.5.0",
            "_model_name": "HTMLModel",
            "_view_count": null,
            "_view_module": "@jupyter-widgets/controls",
            "_view_module_version": "1.5.0",
            "_view_name": "HTMLView",
            "description": "",
            "description_tooltip": null,
            "layout": "IPY_MODEL_35fbca6e7c494110b955f178731d0c6d",
            "placeholder": "​",
            "style": "IPY_MODEL_fee93d37bdb84a86a5df2ba17834ae88",
            "value": " 570/570 [00:00&lt;00:00, 21.8kB/s]"
          }
        },
        "fe5ad7f4854b4555aa080df18866f79a": {
          "model_module": "@jupyter-widgets/base",
          "model_name": "LayoutModel",
          "model_module_version": "1.2.0",
          "state": {
            "_model_module": "@jupyter-widgets/base",
            "_model_module_version": "1.2.0",
            "_model_name": "LayoutModel",
            "_view_count": null,
            "_view_module": "@jupyter-widgets/base",
            "_view_module_version": "1.2.0",
            "_view_name": "LayoutView",
            "align_content": null,
            "align_items": null,
            "align_self": null,
            "border": null,
            "bottom": null,
            "display": null,
            "flex": null,
            "flex_flow": null,
            "grid_area": null,
            "grid_auto_columns": null,
            "grid_auto_flow": null,
            "grid_auto_rows": null,
            "grid_column": null,
            "grid_gap": null,
            "grid_row": null,
            "grid_template_areas": null,
            "grid_template_columns": null,
            "grid_template_rows": null,
            "height": null,
            "justify_content": null,
            "justify_items": null,
            "left": null,
            "margin": null,
            "max_height": null,
            "max_width": null,
            "min_height": null,
            "min_width": null,
            "object_fit": null,
            "object_position": null,
            "order": null,
            "overflow": null,
            "overflow_x": null,
            "overflow_y": null,
            "padding": null,
            "right": null,
            "top": null,
            "visibility": null,
            "width": null
          }
        },
        "83e21d5a2cca465fa832155cc237147c": {
          "model_module": "@jupyter-widgets/base",
          "model_name": "LayoutModel",
          "model_module_version": "1.2.0",
          "state": {
            "_model_module": "@jupyter-widgets/base",
            "_model_module_version": "1.2.0",
            "_model_name": "LayoutModel",
            "_view_count": null,
            "_view_module": "@jupyter-widgets/base",
            "_view_module_version": "1.2.0",
            "_view_name": "LayoutView",
            "align_content": null,
            "align_items": null,
            "align_self": null,
            "border": null,
            "bottom": null,
            "display": null,
            "flex": null,
            "flex_flow": null,
            "grid_area": null,
            "grid_auto_columns": null,
            "grid_auto_flow": null,
            "grid_auto_rows": null,
            "grid_column": null,
            "grid_gap": null,
            "grid_row": null,
            "grid_template_areas": null,
            "grid_template_columns": null,
            "grid_template_rows": null,
            "height": null,
            "justify_content": null,
            "justify_items": null,
            "left": null,
            "margin": null,
            "max_height": null,
            "max_width": null,
            "min_height": null,
            "min_width": null,
            "object_fit": null,
            "object_position": null,
            "order": null,
            "overflow": null,
            "overflow_x": null,
            "overflow_y": null,
            "padding": null,
            "right": null,
            "top": null,
            "visibility": null,
            "width": null
          }
        },
        "baec1998d597469089b4c5c97ef377b7": {
          "model_module": "@jupyter-widgets/controls",
          "model_name": "DescriptionStyleModel",
          "model_module_version": "1.5.0",
          "state": {
            "_model_module": "@jupyter-widgets/controls",
            "_model_module_version": "1.5.0",
            "_model_name": "DescriptionStyleModel",
            "_view_count": null,
            "_view_module": "@jupyter-widgets/base",
            "_view_module_version": "1.2.0",
            "_view_name": "StyleView",
            "description_width": ""
          }
        },
        "d12c934588024eb68563bc4ca17cf269": {
          "model_module": "@jupyter-widgets/base",
          "model_name": "LayoutModel",
          "model_module_version": "1.2.0",
          "state": {
            "_model_module": "@jupyter-widgets/base",
            "_model_module_version": "1.2.0",
            "_model_name": "LayoutModel",
            "_view_count": null,
            "_view_module": "@jupyter-widgets/base",
            "_view_module_version": "1.2.0",
            "_view_name": "LayoutView",
            "align_content": null,
            "align_items": null,
            "align_self": null,
            "border": null,
            "bottom": null,
            "display": null,
            "flex": null,
            "flex_flow": null,
            "grid_area": null,
            "grid_auto_columns": null,
            "grid_auto_flow": null,
            "grid_auto_rows": null,
            "grid_column": null,
            "grid_gap": null,
            "grid_row": null,
            "grid_template_areas": null,
            "grid_template_columns": null,
            "grid_template_rows": null,
            "height": null,
            "justify_content": null,
            "justify_items": null,
            "left": null,
            "margin": null,
            "max_height": null,
            "max_width": null,
            "min_height": null,
            "min_width": null,
            "object_fit": null,
            "object_position": null,
            "order": null,
            "overflow": null,
            "overflow_x": null,
            "overflow_y": null,
            "padding": null,
            "right": null,
            "top": null,
            "visibility": null,
            "width": null
          }
        },
        "9bbebfe7fa5d42babf4550fa4081da3f": {
          "model_module": "@jupyter-widgets/controls",
          "model_name": "ProgressStyleModel",
          "model_module_version": "1.5.0",
          "state": {
            "_model_module": "@jupyter-widgets/controls",
            "_model_module_version": "1.5.0",
            "_model_name": "ProgressStyleModel",
            "_view_count": null,
            "_view_module": "@jupyter-widgets/base",
            "_view_module_version": "1.2.0",
            "_view_name": "StyleView",
            "bar_color": null,
            "description_width": ""
          }
        },
        "35fbca6e7c494110b955f178731d0c6d": {
          "model_module": "@jupyter-widgets/base",
          "model_name": "LayoutModel",
          "model_module_version": "1.2.0",
          "state": {
            "_model_module": "@jupyter-widgets/base",
            "_model_module_version": "1.2.0",
            "_model_name": "LayoutModel",
            "_view_count": null,
            "_view_module": "@jupyter-widgets/base",
            "_view_module_version": "1.2.0",
            "_view_name": "LayoutView",
            "align_content": null,
            "align_items": null,
            "align_self": null,
            "border": null,
            "bottom": null,
            "display": null,
            "flex": null,
            "flex_flow": null,
            "grid_area": null,
            "grid_auto_columns": null,
            "grid_auto_flow": null,
            "grid_auto_rows": null,
            "grid_column": null,
            "grid_gap": null,
            "grid_row": null,
            "grid_template_areas": null,
            "grid_template_columns": null,
            "grid_template_rows": null,
            "height": null,
            "justify_content": null,
            "justify_items": null,
            "left": null,
            "margin": null,
            "max_height": null,
            "max_width": null,
            "min_height": null,
            "min_width": null,
            "object_fit": null,
            "object_position": null,
            "order": null,
            "overflow": null,
            "overflow_x": null,
            "overflow_y": null,
            "padding": null,
            "right": null,
            "top": null,
            "visibility": null,
            "width": null
          }
        },
        "fee93d37bdb84a86a5df2ba17834ae88": {
          "model_module": "@jupyter-widgets/controls",
          "model_name": "DescriptionStyleModel",
          "model_module_version": "1.5.0",
          "state": {
            "_model_module": "@jupyter-widgets/controls",
            "_model_module_version": "1.5.0",
            "_model_name": "DescriptionStyleModel",
            "_view_count": null,
            "_view_module": "@jupyter-widgets/base",
            "_view_module_version": "1.2.0",
            "_view_name": "StyleView",
            "description_width": ""
          }
        }
      }
    }
  },
  "cells": [
    {
      "cell_type": "code",
      "execution_count": null,
      "metadata": {
        "colab": {
          "base_uri": "https://localhost:8080/"
        },
        "id": "RVYzXJuC5sdo",
        "outputId": "8235e1ab-67fb-4b8e-8050-a5f2868597d6"
      },
      "outputs": [
        {
          "output_type": "stream",
          "name": "stdout",
          "text": [
            "Requirement already satisfied: kaggle in /usr/local/lib/python3.10/dist-packages (1.5.16)\n",
            "Requirement already satisfied: six>=1.10 in /usr/local/lib/python3.10/dist-packages (from kaggle) (1.16.0)\n",
            "Requirement already satisfied: certifi in /usr/local/lib/python3.10/dist-packages (from kaggle) (2024.2.2)\n",
            "Requirement already satisfied: python-dateutil in /usr/local/lib/python3.10/dist-packages (from kaggle) (2.8.2)\n",
            "Requirement already satisfied: requests in /usr/local/lib/python3.10/dist-packages (from kaggle) (2.31.0)\n",
            "Requirement already satisfied: tqdm in /usr/local/lib/python3.10/dist-packages (from kaggle) (4.66.2)\n",
            "Requirement already satisfied: python-slugify in /usr/local/lib/python3.10/dist-packages (from kaggle) (8.0.4)\n",
            "Requirement already satisfied: urllib3 in /usr/local/lib/python3.10/dist-packages (from kaggle) (2.0.7)\n",
            "Requirement already satisfied: bleach in /usr/local/lib/python3.10/dist-packages (from kaggle) (6.1.0)\n",
            "Requirement already satisfied: webencodings in /usr/local/lib/python3.10/dist-packages (from bleach->kaggle) (0.5.1)\n",
            "Requirement already satisfied: text-unidecode>=1.3 in /usr/local/lib/python3.10/dist-packages (from python-slugify->kaggle) (1.3)\n",
            "Requirement already satisfied: charset-normalizer<4,>=2 in /usr/local/lib/python3.10/dist-packages (from requests->kaggle) (3.3.2)\n",
            "Requirement already satisfied: idna<4,>=2.5 in /usr/local/lib/python3.10/dist-packages (from requests->kaggle) (3.6)\n",
            "Requirement already satisfied: pandas in /usr/local/lib/python3.10/dist-packages (2.0.3)\n",
            "Requirement already satisfied: matplotlib in /usr/local/lib/python3.10/dist-packages (3.7.1)\n",
            "Requirement already satisfied: seaborn in /usr/local/lib/python3.10/dist-packages (0.13.1)\n",
            "Requirement already satisfied: python-dateutil>=2.8.2 in /usr/local/lib/python3.10/dist-packages (from pandas) (2.8.2)\n",
            "Requirement already satisfied: pytz>=2020.1 in /usr/local/lib/python3.10/dist-packages (from pandas) (2023.4)\n",
            "Requirement already satisfied: tzdata>=2022.1 in /usr/local/lib/python3.10/dist-packages (from pandas) (2024.1)\n",
            "Requirement already satisfied: numpy>=1.21.0 in /usr/local/lib/python3.10/dist-packages (from pandas) (1.25.2)\n",
            "Requirement already satisfied: contourpy>=1.0.1 in /usr/local/lib/python3.10/dist-packages (from matplotlib) (1.2.1)\n",
            "Requirement already satisfied: cycler>=0.10 in /usr/local/lib/python3.10/dist-packages (from matplotlib) (0.12.1)\n",
            "Requirement already satisfied: fonttools>=4.22.0 in /usr/local/lib/python3.10/dist-packages (from matplotlib) (4.50.0)\n",
            "Requirement already satisfied: kiwisolver>=1.0.1 in /usr/local/lib/python3.10/dist-packages (from matplotlib) (1.4.5)\n",
            "Requirement already satisfied: packaging>=20.0 in /usr/local/lib/python3.10/dist-packages (from matplotlib) (24.0)\n",
            "Requirement already satisfied: pillow>=6.2.0 in /usr/local/lib/python3.10/dist-packages (from matplotlib) (9.4.0)\n",
            "Requirement already satisfied: pyparsing>=2.3.1 in /usr/local/lib/python3.10/dist-packages (from matplotlib) (3.1.2)\n",
            "Requirement already satisfied: six>=1.5 in /usr/local/lib/python3.10/dist-packages (from python-dateutil>=2.8.2->pandas) (1.16.0)\n"
          ]
        }
      ],
      "source": [
        "!pip install kaggle\n",
        "!pip install pandas matplotlib seaborn"
      ]
    },
    {
      "cell_type": "code",
      "source": [
        "!pip install gdown"
      ],
      "metadata": {
        "colab": {
          "base_uri": "https://localhost:8080/"
        },
        "id": "TlQQ9Lae6rYf",
        "outputId": "70973e60-149a-4a98-ad38-9ebe1d9193b8"
      },
      "execution_count": null,
      "outputs": [
        {
          "output_type": "stream",
          "name": "stdout",
          "text": [
            "Requirement already satisfied: gdown in /usr/local/lib/python3.10/dist-packages (4.7.3)\n",
            "Requirement already satisfied: filelock in /usr/local/lib/python3.10/dist-packages (from gdown) (3.13.3)\n",
            "Requirement already satisfied: requests[socks] in /usr/local/lib/python3.10/dist-packages (from gdown) (2.31.0)\n",
            "Requirement already satisfied: six in /usr/local/lib/python3.10/dist-packages (from gdown) (1.16.0)\n",
            "Requirement already satisfied: tqdm in /usr/local/lib/python3.10/dist-packages (from gdown) (4.66.2)\n",
            "Requirement already satisfied: beautifulsoup4 in /usr/local/lib/python3.10/dist-packages (from gdown) (4.12.3)\n",
            "Requirement already satisfied: soupsieve>1.2 in /usr/local/lib/python3.10/dist-packages (from beautifulsoup4->gdown) (2.5)\n",
            "Requirement already satisfied: charset-normalizer<4,>=2 in /usr/local/lib/python3.10/dist-packages (from requests[socks]->gdown) (3.3.2)\n",
            "Requirement already satisfied: idna<4,>=2.5 in /usr/local/lib/python3.10/dist-packages (from requests[socks]->gdown) (3.6)\n",
            "Requirement already satisfied: urllib3<3,>=1.21.1 in /usr/local/lib/python3.10/dist-packages (from requests[socks]->gdown) (2.0.7)\n",
            "Requirement already satisfied: certifi>=2017.4.17 in /usr/local/lib/python3.10/dist-packages (from requests[socks]->gdown) (2024.2.2)\n",
            "Requirement already satisfied: PySocks!=1.5.7,>=1.5.6 in /usr/local/lib/python3.10/dist-packages (from requests[socks]->gdown) (1.7.1)\n"
          ]
        }
      ]
    },
    {
      "cell_type": "code",
      "source": [
        "import os\n",
        "from google.colab import files\n",
        "\n",
        "uploaded = files.upload()\n",
        "\n",
        "!mkdir -p ~/.kaggle\n",
        "!mv kaggle.json ~/.kaggle/\n",
        "!chmod 600 ~/.kaggle/kaggle.json"
      ],
      "metadata": {
        "id": "tC5LfxgrXCaM",
        "colab": {
          "base_uri": "https://localhost:8080/",
          "height": 74
        },
        "outputId": "b276993c-4640-44cd-c04c-70c5f58ae8ea"
      },
      "execution_count": null,
      "outputs": [
        {
          "output_type": "display_data",
          "data": {
            "text/plain": [
              "<IPython.core.display.HTML object>"
            ],
            "text/html": [
              "\n",
              "     <input type=\"file\" id=\"files-e391ef8d-c6f4-4854-a7f2-c3f04203cf36\" name=\"files[]\" multiple disabled\n",
              "        style=\"border:none\" />\n",
              "     <output id=\"result-e391ef8d-c6f4-4854-a7f2-c3f04203cf36\">\n",
              "      Upload widget is only available when the cell has been executed in the\n",
              "      current browser session. Please rerun this cell to enable.\n",
              "      </output>\n",
              "      <script>// Copyright 2017 Google LLC\n",
              "//\n",
              "// Licensed under the Apache License, Version 2.0 (the \"License\");\n",
              "// you may not use this file except in compliance with the License.\n",
              "// You may obtain a copy of the License at\n",
              "//\n",
              "//      http://www.apache.org/licenses/LICENSE-2.0\n",
              "//\n",
              "// Unless required by applicable law or agreed to in writing, software\n",
              "// distributed under the License is distributed on an \"AS IS\" BASIS,\n",
              "// WITHOUT WARRANTIES OR CONDITIONS OF ANY KIND, either express or implied.\n",
              "// See the License for the specific language governing permissions and\n",
              "// limitations under the License.\n",
              "\n",
              "/**\n",
              " * @fileoverview Helpers for google.colab Python module.\n",
              " */\n",
              "(function(scope) {\n",
              "function span(text, styleAttributes = {}) {\n",
              "  const element = document.createElement('span');\n",
              "  element.textContent = text;\n",
              "  for (const key of Object.keys(styleAttributes)) {\n",
              "    element.style[key] = styleAttributes[key];\n",
              "  }\n",
              "  return element;\n",
              "}\n",
              "\n",
              "// Max number of bytes which will be uploaded at a time.\n",
              "const MAX_PAYLOAD_SIZE = 100 * 1024;\n",
              "\n",
              "function _uploadFiles(inputId, outputId) {\n",
              "  const steps = uploadFilesStep(inputId, outputId);\n",
              "  const outputElement = document.getElementById(outputId);\n",
              "  // Cache steps on the outputElement to make it available for the next call\n",
              "  // to uploadFilesContinue from Python.\n",
              "  outputElement.steps = steps;\n",
              "\n",
              "  return _uploadFilesContinue(outputId);\n",
              "}\n",
              "\n",
              "// This is roughly an async generator (not supported in the browser yet),\n",
              "// where there are multiple asynchronous steps and the Python side is going\n",
              "// to poll for completion of each step.\n",
              "// This uses a Promise to block the python side on completion of each step,\n",
              "// then passes the result of the previous step as the input to the next step.\n",
              "function _uploadFilesContinue(outputId) {\n",
              "  const outputElement = document.getElementById(outputId);\n",
              "  const steps = outputElement.steps;\n",
              "\n",
              "  const next = steps.next(outputElement.lastPromiseValue);\n",
              "  return Promise.resolve(next.value.promise).then((value) => {\n",
              "    // Cache the last promise value to make it available to the next\n",
              "    // step of the generator.\n",
              "    outputElement.lastPromiseValue = value;\n",
              "    return next.value.response;\n",
              "  });\n",
              "}\n",
              "\n",
              "/**\n",
              " * Generator function which is called between each async step of the upload\n",
              " * process.\n",
              " * @param {string} inputId Element ID of the input file picker element.\n",
              " * @param {string} outputId Element ID of the output display.\n",
              " * @return {!Iterable<!Object>} Iterable of next steps.\n",
              " */\n",
              "function* uploadFilesStep(inputId, outputId) {\n",
              "  const inputElement = document.getElementById(inputId);\n",
              "  inputElement.disabled = false;\n",
              "\n",
              "  const outputElement = document.getElementById(outputId);\n",
              "  outputElement.innerHTML = '';\n",
              "\n",
              "  const pickedPromise = new Promise((resolve) => {\n",
              "    inputElement.addEventListener('change', (e) => {\n",
              "      resolve(e.target.files);\n",
              "    });\n",
              "  });\n",
              "\n",
              "  const cancel = document.createElement('button');\n",
              "  inputElement.parentElement.appendChild(cancel);\n",
              "  cancel.textContent = 'Cancel upload';\n",
              "  const cancelPromise = new Promise((resolve) => {\n",
              "    cancel.onclick = () => {\n",
              "      resolve(null);\n",
              "    };\n",
              "  });\n",
              "\n",
              "  // Wait for the user to pick the files.\n",
              "  const files = yield {\n",
              "    promise: Promise.race([pickedPromise, cancelPromise]),\n",
              "    response: {\n",
              "      action: 'starting',\n",
              "    }\n",
              "  };\n",
              "\n",
              "  cancel.remove();\n",
              "\n",
              "  // Disable the input element since further picks are not allowed.\n",
              "  inputElement.disabled = true;\n",
              "\n",
              "  if (!files) {\n",
              "    return {\n",
              "      response: {\n",
              "        action: 'complete',\n",
              "      }\n",
              "    };\n",
              "  }\n",
              "\n",
              "  for (const file of files) {\n",
              "    const li = document.createElement('li');\n",
              "    li.append(span(file.name, {fontWeight: 'bold'}));\n",
              "    li.append(span(\n",
              "        `(${file.type || 'n/a'}) - ${file.size} bytes, ` +\n",
              "        `last modified: ${\n",
              "            file.lastModifiedDate ? file.lastModifiedDate.toLocaleDateString() :\n",
              "                                    'n/a'} - `));\n",
              "    const percent = span('0% done');\n",
              "    li.appendChild(percent);\n",
              "\n",
              "    outputElement.appendChild(li);\n",
              "\n",
              "    const fileDataPromise = new Promise((resolve) => {\n",
              "      const reader = new FileReader();\n",
              "      reader.onload = (e) => {\n",
              "        resolve(e.target.result);\n",
              "      };\n",
              "      reader.readAsArrayBuffer(file);\n",
              "    });\n",
              "    // Wait for the data to be ready.\n",
              "    let fileData = yield {\n",
              "      promise: fileDataPromise,\n",
              "      response: {\n",
              "        action: 'continue',\n",
              "      }\n",
              "    };\n",
              "\n",
              "    // Use a chunked sending to avoid message size limits. See b/62115660.\n",
              "    let position = 0;\n",
              "    do {\n",
              "      const length = Math.min(fileData.byteLength - position, MAX_PAYLOAD_SIZE);\n",
              "      const chunk = new Uint8Array(fileData, position, length);\n",
              "      position += length;\n",
              "\n",
              "      const base64 = btoa(String.fromCharCode.apply(null, chunk));\n",
              "      yield {\n",
              "        response: {\n",
              "          action: 'append',\n",
              "          file: file.name,\n",
              "          data: base64,\n",
              "        },\n",
              "      };\n",
              "\n",
              "      let percentDone = fileData.byteLength === 0 ?\n",
              "          100 :\n",
              "          Math.round((position / fileData.byteLength) * 100);\n",
              "      percent.textContent = `${percentDone}% done`;\n",
              "\n",
              "    } while (position < fileData.byteLength);\n",
              "  }\n",
              "\n",
              "  // All done.\n",
              "  yield {\n",
              "    response: {\n",
              "      action: 'complete',\n",
              "    }\n",
              "  };\n",
              "}\n",
              "\n",
              "scope.google = scope.google || {};\n",
              "scope.google.colab = scope.google.colab || {};\n",
              "scope.google.colab._files = {\n",
              "  _uploadFiles,\n",
              "  _uploadFilesContinue,\n",
              "};\n",
              "})(self);\n",
              "</script> "
            ]
          },
          "metadata": {}
        },
        {
          "output_type": "stream",
          "name": "stdout",
          "text": [
            "mv: cannot stat 'kaggle.json': No such file or directory\n",
            "chmod: cannot access '/root/.kaggle/kaggle.json': No such file or directory\n"
          ]
        }
      ]
    },
    {
      "cell_type": "code",
      "source": [
        "!kaggle datasets download -d shanegerami/ai-vs-human-text"
      ],
      "metadata": {
        "id": "FOzErd5tXob8",
        "outputId": "219d4751-14ed-4e72-f870-ee9ea2e90463",
        "colab": {
          "base_uri": "https://localhost:8080/"
        }
      },
      "execution_count": null,
      "outputs": [
        {
          "output_type": "stream",
          "name": "stdout",
          "text": [
            "Downloading ai-vs-human-text.zip to /content\n",
            "100% 349M/350M [00:08<00:00, 45.6MB/s]\n",
            "100% 350M/350M [00:08<00:00, 41.1MB/s]\n"
          ]
        }
      ]
    },
    {
      "cell_type": "code",
      "source": [
        "zip_file = f\"ai-vs-human-text.zip\"\n",
        "!unzip -q $zip_file -d data\n",
        "print(\"Dataset downloaded and unzipped successfully!\")"
      ],
      "metadata": {
        "id": "i9LU-n72Xvvo",
        "outputId": "fd52eb54-e6f7-4b3d-a8d5-c69008531764",
        "colab": {
          "base_uri": "https://localhost:8080/"
        }
      },
      "execution_count": null,
      "outputs": [
        {
          "output_type": "stream",
          "name": "stdout",
          "text": [
            "Dataset downloaded and unzipped successfully!\n"
          ]
        }
      ]
    },
    {
      "cell_type": "markdown",
      "source": [
        "# Imports"
      ],
      "metadata": {
        "id": "mOI2kd98YZ3m"
      }
    },
    {
      "cell_type": "code",
      "source": [
        "# Imports\n",
        "import pandas as pd\n",
        "import numpy as np\n",
        "import re\n",
        "from sklearn.model_selection import train_test_split\n",
        "from sklearn.feature_extraction.text import TfidfVectorizer\n",
        "from sklearn.linear_model import LogisticRegression\n",
        "from sklearn.metrics import accuracy_score\n",
        "from nltk.tokenize import word_tokenize\n",
        "from nltk.corpus import stopwords\n",
        "import nltk\n",
        "\n",
        "from nltk.tokenize import word_tokenize\n",
        "from nltk.corpus import stopwords\n",
        "from nltk.stem import WordNetLemmatizer\n",
        "\n",
        "from transformers import BertTokenizer, BertForSequenceClassification, AdamW\n",
        "import torch\n",
        "from torch.utils.data import TensorDataset, DataLoader, RandomSampler, SequentialSampler\n",
        "from tqdm import tqdm"
      ],
      "metadata": {
        "id": "ULcjrfMYYZWI"
      },
      "execution_count": null,
      "outputs": []
    },
    {
      "cell_type": "code",
      "source": [
        "# Ensure necessary NLTK downloads\n",
        "nltk.download('punkt')\n",
        "nltk.download('stopwords')\n",
        "nltk.download('wordnet')"
      ],
      "metadata": {
        "colab": {
          "base_uri": "https://localhost:8080/"
        },
        "id": "_geC1B3mh5tk",
        "outputId": "593f8550-cc7a-426d-967e-d4ef3c54e15d"
      },
      "execution_count": null,
      "outputs": [
        {
          "output_type": "stream",
          "name": "stderr",
          "text": [
            "[nltk_data] Downloading package punkt to /root/nltk_data...\n",
            "[nltk_data]   Package punkt is already up-to-date!\n",
            "[nltk_data] Downloading package stopwords to /root/nltk_data...\n",
            "[nltk_data]   Package stopwords is already up-to-date!\n",
            "[nltk_data] Downloading package wordnet to /root/nltk_data...\n",
            "[nltk_data]   Package wordnet is already up-to-date!\n"
          ]
        },
        {
          "output_type": "execute_result",
          "data": {
            "text/plain": [
              "True"
            ]
          },
          "metadata": {},
          "execution_count": 85
        }
      ]
    },
    {
      "cell_type": "markdown",
      "source": [
        "### Preprocessing"
      ],
      "metadata": {
        "id": "DQYn-5Ekkjs3"
      }
    },
    {
      "cell_type": "code",
      "source": [
        "# Define a comprehensive text preprocessing function\n",
        "def preprocess_text(text):\n",
        "    # Lowercase conversion\n",
        "    text = text.lower()\n",
        "    # Removal of non-word characters\n",
        "    text = re.sub(r'\\W', ' ', text)\n",
        "    # Removing extra spaces\n",
        "    text = re.sub(r'\\s+', ' ', text).strip()\n",
        "    # Remove stopwords\n",
        "    stop_words = set(stopwords.words('english'))\n",
        "    words = word_tokenize(text)\n",
        "    text = ' '.join([word for word in words if word not in stop_words])\n",
        "    # Lemmatization\n",
        "    lemmatizer = WordNetLemmatizer()\n",
        "    words = word_tokenize(text)\n",
        "    text = ' '.join([lemmatizer.lemmatize(word) for word in words])\n",
        "    return text"
      ],
      "metadata": {
        "id": "3uoEumZ5hl6s"
      },
      "execution_count": null,
      "outputs": []
    },
    {
      "cell_type": "code",
      "source": [
        "from google.colab import drive\n",
        "drive.mount('/content/drive')"
      ],
      "metadata": {
        "colab": {
          "base_uri": "https://localhost:8080/"
        },
        "id": "jsFLLnVHxYy4",
        "outputId": "b0e707ea-476e-4375-cefd-7144169b9b85"
      },
      "execution_count": null,
      "outputs": [
        {
          "output_type": "stream",
          "name": "stdout",
          "text": [
            "Drive already mounted at /content/drive; to attempt to forcibly remount, call drive.mount(\"/content/drive\", force_remount=True).\n"
          ]
        }
      ]
    },
    {
      "cell_type": "code",
      "source": [
        "# !cp /content/cleaned.csv /content/drive/MyDrive/DMA"
      ],
      "metadata": {
        "id": "IZo8aEW3xlWA"
      },
      "execution_count": null,
      "outputs": []
    },
    {
      "cell_type": "code",
      "source": [
        "\n",
        "df = pd.read_csv(\"/content/drive/MyDrive/DMA/cleaned.csv\")"
      ],
      "metadata": {
        "id": "9yFOOhBUA0Tx"
      },
      "execution_count": null,
      "outputs": []
    },
    {
      "cell_type": "code",
      "source": [
        "df.head()"
      ],
      "metadata": {
        "colab": {
          "base_uri": "https://localhost:8080/",
          "height": 206
        },
        "id": "SHPGKVKFBHqN",
        "outputId": "1301177e-d962-47de-d7ea-f5c05f3239e4"
      },
      "execution_count": null,
      "outputs": [
        {
          "output_type": "execute_result",
          "data": {
            "text/plain": [
              "   Unnamed: 0                                               text  generated\n",
              "0           0  car car around since became famous 1900s henry...        0.0\n",
              "1           1  transportation large necessity country worldwi...        0.0\n",
              "2           2  america love affair vehicle seems cooling say ...        0.0\n",
              "3           3  often ride car drive one motor vehicle work st...        0.0\n",
              "4           4  car wonderful thing perhaps one world greatest...        0.0"
            ],
            "text/html": [
              "\n",
              "  <div id=\"df-474a4d1d-8dba-480c-a1de-c73d56a4b3ce\" class=\"colab-df-container\">\n",
              "    <div>\n",
              "<style scoped>\n",
              "    .dataframe tbody tr th:only-of-type {\n",
              "        vertical-align: middle;\n",
              "    }\n",
              "\n",
              "    .dataframe tbody tr th {\n",
              "        vertical-align: top;\n",
              "    }\n",
              "\n",
              "    .dataframe thead th {\n",
              "        text-align: right;\n",
              "    }\n",
              "</style>\n",
              "<table border=\"1\" class=\"dataframe\">\n",
              "  <thead>\n",
              "    <tr style=\"text-align: right;\">\n",
              "      <th></th>\n",
              "      <th>Unnamed: 0</th>\n",
              "      <th>text</th>\n",
              "      <th>generated</th>\n",
              "    </tr>\n",
              "  </thead>\n",
              "  <tbody>\n",
              "    <tr>\n",
              "      <th>0</th>\n",
              "      <td>0</td>\n",
              "      <td>car car around since became famous 1900s henry...</td>\n",
              "      <td>0.0</td>\n",
              "    </tr>\n",
              "    <tr>\n",
              "      <th>1</th>\n",
              "      <td>1</td>\n",
              "      <td>transportation large necessity country worldwi...</td>\n",
              "      <td>0.0</td>\n",
              "    </tr>\n",
              "    <tr>\n",
              "      <th>2</th>\n",
              "      <td>2</td>\n",
              "      <td>america love affair vehicle seems cooling say ...</td>\n",
              "      <td>0.0</td>\n",
              "    </tr>\n",
              "    <tr>\n",
              "      <th>3</th>\n",
              "      <td>3</td>\n",
              "      <td>often ride car drive one motor vehicle work st...</td>\n",
              "      <td>0.0</td>\n",
              "    </tr>\n",
              "    <tr>\n",
              "      <th>4</th>\n",
              "      <td>4</td>\n",
              "      <td>car wonderful thing perhaps one world greatest...</td>\n",
              "      <td>0.0</td>\n",
              "    </tr>\n",
              "  </tbody>\n",
              "</table>\n",
              "</div>\n",
              "    <div class=\"colab-df-buttons\">\n",
              "\n",
              "  <div class=\"colab-df-container\">\n",
              "    <button class=\"colab-df-convert\" onclick=\"convertToInteractive('df-474a4d1d-8dba-480c-a1de-c73d56a4b3ce')\"\n",
              "            title=\"Convert this dataframe to an interactive table.\"\n",
              "            style=\"display:none;\">\n",
              "\n",
              "  <svg xmlns=\"http://www.w3.org/2000/svg\" height=\"24px\" viewBox=\"0 -960 960 960\">\n",
              "    <path d=\"M120-120v-720h720v720H120Zm60-500h600v-160H180v160Zm220 220h160v-160H400v160Zm0 220h160v-160H400v160ZM180-400h160v-160H180v160Zm440 0h160v-160H620v160ZM180-180h160v-160H180v160Zm440 0h160v-160H620v160Z\"/>\n",
              "  </svg>\n",
              "    </button>\n",
              "\n",
              "  <style>\n",
              "    .colab-df-container {\n",
              "      display:flex;\n",
              "      gap: 12px;\n",
              "    }\n",
              "\n",
              "    .colab-df-convert {\n",
              "      background-color: #E8F0FE;\n",
              "      border: none;\n",
              "      border-radius: 50%;\n",
              "      cursor: pointer;\n",
              "      display: none;\n",
              "      fill: #1967D2;\n",
              "      height: 32px;\n",
              "      padding: 0 0 0 0;\n",
              "      width: 32px;\n",
              "    }\n",
              "\n",
              "    .colab-df-convert:hover {\n",
              "      background-color: #E2EBFA;\n",
              "      box-shadow: 0px 1px 2px rgba(60, 64, 67, 0.3), 0px 1px 3px 1px rgba(60, 64, 67, 0.15);\n",
              "      fill: #174EA6;\n",
              "    }\n",
              "\n",
              "    .colab-df-buttons div {\n",
              "      margin-bottom: 4px;\n",
              "    }\n",
              "\n",
              "    [theme=dark] .colab-df-convert {\n",
              "      background-color: #3B4455;\n",
              "      fill: #D2E3FC;\n",
              "    }\n",
              "\n",
              "    [theme=dark] .colab-df-convert:hover {\n",
              "      background-color: #434B5C;\n",
              "      box-shadow: 0px 1px 3px 1px rgba(0, 0, 0, 0.15);\n",
              "      filter: drop-shadow(0px 1px 2px rgba(0, 0, 0, 0.3));\n",
              "      fill: #FFFFFF;\n",
              "    }\n",
              "  </style>\n",
              "\n",
              "    <script>\n",
              "      const buttonEl =\n",
              "        document.querySelector('#df-474a4d1d-8dba-480c-a1de-c73d56a4b3ce button.colab-df-convert');\n",
              "      buttonEl.style.display =\n",
              "        google.colab.kernel.accessAllowed ? 'block' : 'none';\n",
              "\n",
              "      async function convertToInteractive(key) {\n",
              "        const element = document.querySelector('#df-474a4d1d-8dba-480c-a1de-c73d56a4b3ce');\n",
              "        const dataTable =\n",
              "          await google.colab.kernel.invokeFunction('convertToInteractive',\n",
              "                                                    [key], {});\n",
              "        if (!dataTable) return;\n",
              "\n",
              "        const docLinkHtml = 'Like what you see? Visit the ' +\n",
              "          '<a target=\"_blank\" href=https://colab.research.google.com/notebooks/data_table.ipynb>data table notebook</a>'\n",
              "          + ' to learn more about interactive tables.';\n",
              "        element.innerHTML = '';\n",
              "        dataTable['output_type'] = 'display_data';\n",
              "        await google.colab.output.renderOutput(dataTable, element);\n",
              "        const docLink = document.createElement('div');\n",
              "        docLink.innerHTML = docLinkHtml;\n",
              "        element.appendChild(docLink);\n",
              "      }\n",
              "    </script>\n",
              "  </div>\n",
              "\n",
              "\n",
              "<div id=\"df-d89b9c81-8388-428b-b091-02fa37b4d0ad\">\n",
              "  <button class=\"colab-df-quickchart\" onclick=\"quickchart('df-d89b9c81-8388-428b-b091-02fa37b4d0ad')\"\n",
              "            title=\"Suggest charts\"\n",
              "            style=\"display:none;\">\n",
              "\n",
              "<svg xmlns=\"http://www.w3.org/2000/svg\" height=\"24px\"viewBox=\"0 0 24 24\"\n",
              "     width=\"24px\">\n",
              "    <g>\n",
              "        <path d=\"M19 3H5c-1.1 0-2 .9-2 2v14c0 1.1.9 2 2 2h14c1.1 0 2-.9 2-2V5c0-1.1-.9-2-2-2zM9 17H7v-7h2v7zm4 0h-2V7h2v10zm4 0h-2v-4h2v4z\"/>\n",
              "    </g>\n",
              "</svg>\n",
              "  </button>\n",
              "\n",
              "<style>\n",
              "  .colab-df-quickchart {\n",
              "      --bg-color: #E8F0FE;\n",
              "      --fill-color: #1967D2;\n",
              "      --hover-bg-color: #E2EBFA;\n",
              "      --hover-fill-color: #174EA6;\n",
              "      --disabled-fill-color: #AAA;\n",
              "      --disabled-bg-color: #DDD;\n",
              "  }\n",
              "\n",
              "  [theme=dark] .colab-df-quickchart {\n",
              "      --bg-color: #3B4455;\n",
              "      --fill-color: #D2E3FC;\n",
              "      --hover-bg-color: #434B5C;\n",
              "      --hover-fill-color: #FFFFFF;\n",
              "      --disabled-bg-color: #3B4455;\n",
              "      --disabled-fill-color: #666;\n",
              "  }\n",
              "\n",
              "  .colab-df-quickchart {\n",
              "    background-color: var(--bg-color);\n",
              "    border: none;\n",
              "    border-radius: 50%;\n",
              "    cursor: pointer;\n",
              "    display: none;\n",
              "    fill: var(--fill-color);\n",
              "    height: 32px;\n",
              "    padding: 0;\n",
              "    width: 32px;\n",
              "  }\n",
              "\n",
              "  .colab-df-quickchart:hover {\n",
              "    background-color: var(--hover-bg-color);\n",
              "    box-shadow: 0 1px 2px rgba(60, 64, 67, 0.3), 0 1px 3px 1px rgba(60, 64, 67, 0.15);\n",
              "    fill: var(--button-hover-fill-color);\n",
              "  }\n",
              "\n",
              "  .colab-df-quickchart-complete:disabled,\n",
              "  .colab-df-quickchart-complete:disabled:hover {\n",
              "    background-color: var(--disabled-bg-color);\n",
              "    fill: var(--disabled-fill-color);\n",
              "    box-shadow: none;\n",
              "  }\n",
              "\n",
              "  .colab-df-spinner {\n",
              "    border: 2px solid var(--fill-color);\n",
              "    border-color: transparent;\n",
              "    border-bottom-color: var(--fill-color);\n",
              "    animation:\n",
              "      spin 1s steps(1) infinite;\n",
              "  }\n",
              "\n",
              "  @keyframes spin {\n",
              "    0% {\n",
              "      border-color: transparent;\n",
              "      border-bottom-color: var(--fill-color);\n",
              "      border-left-color: var(--fill-color);\n",
              "    }\n",
              "    20% {\n",
              "      border-color: transparent;\n",
              "      border-left-color: var(--fill-color);\n",
              "      border-top-color: var(--fill-color);\n",
              "    }\n",
              "    30% {\n",
              "      border-color: transparent;\n",
              "      border-left-color: var(--fill-color);\n",
              "      border-top-color: var(--fill-color);\n",
              "      border-right-color: var(--fill-color);\n",
              "    }\n",
              "    40% {\n",
              "      border-color: transparent;\n",
              "      border-right-color: var(--fill-color);\n",
              "      border-top-color: var(--fill-color);\n",
              "    }\n",
              "    60% {\n",
              "      border-color: transparent;\n",
              "      border-right-color: var(--fill-color);\n",
              "    }\n",
              "    80% {\n",
              "      border-color: transparent;\n",
              "      border-right-color: var(--fill-color);\n",
              "      border-bottom-color: var(--fill-color);\n",
              "    }\n",
              "    90% {\n",
              "      border-color: transparent;\n",
              "      border-bottom-color: var(--fill-color);\n",
              "    }\n",
              "  }\n",
              "</style>\n",
              "\n",
              "  <script>\n",
              "    async function quickchart(key) {\n",
              "      const quickchartButtonEl =\n",
              "        document.querySelector('#' + key + ' button');\n",
              "      quickchartButtonEl.disabled = true;  // To prevent multiple clicks.\n",
              "      quickchartButtonEl.classList.add('colab-df-spinner');\n",
              "      try {\n",
              "        const charts = await google.colab.kernel.invokeFunction(\n",
              "            'suggestCharts', [key], {});\n",
              "      } catch (error) {\n",
              "        console.error('Error during call to suggestCharts:', error);\n",
              "      }\n",
              "      quickchartButtonEl.classList.remove('colab-df-spinner');\n",
              "      quickchartButtonEl.classList.add('colab-df-quickchart-complete');\n",
              "    }\n",
              "    (() => {\n",
              "      let quickchartButtonEl =\n",
              "        document.querySelector('#df-d89b9c81-8388-428b-b091-02fa37b4d0ad button');\n",
              "      quickchartButtonEl.style.display =\n",
              "        google.colab.kernel.accessAllowed ? 'block' : 'none';\n",
              "    })();\n",
              "  </script>\n",
              "</div>\n",
              "    </div>\n",
              "  </div>\n"
            ],
            "application/vnd.google.colaboratory.intrinsic+json": {
              "type": "dataframe",
              "variable_name": "df"
            }
          },
          "metadata": {},
          "execution_count": 13
        }
      ]
    },
    {
      "cell_type": "code",
      "source": [
        "# Split dataset into training and testing sets\n",
        "X_train, X_test, y_train, y_test = train_test_split(df['text'], df['generated'], test_size=0.2, random_state=42)"
      ],
      "metadata": {
        "id": "MDnuPtZyhyYq"
      },
      "execution_count": null,
      "outputs": []
    },
    {
      "cell_type": "code",
      "source": [
        "X_train.head()"
      ],
      "metadata": {
        "id": "mWklvdMUYJ_B",
        "outputId": "7735cc7e-fe3c-472e-984e-7d4b3da13692",
        "colab": {
          "base_uri": "https://localhost:8080/"
        }
      },
      "execution_count": null,
      "outputs": [
        {
          "output_type": "execute_result",
          "data": {
            "text/plain": [
              "110501    think facs useful technology could benefit cla...\n",
              "262291    student create summer project instead teacher ...\n",
              "159503    average 8thgrade student developed talent play...\n",
              "193029    holy avocado new computer software come design...\n",
              "31127     title cowboy rode wave upon time lived cowboy ...\n",
              "Name: text, dtype: object"
            ]
          },
          "metadata": {},
          "execution_count": 25
        }
      ]
    },
    {
      "cell_type": "code",
      "source": [
        "df_zeros = df[df['generated'] == 0]\n",
        "df_ones = df[df['generated'] == 1]\n",
        "\n",
        "# Take a random sample of 5000 from each part\n",
        "sample_zeros = df_zeros.sample(n=10000, random_state=42)\n",
        "sample_ones = df_ones.sample(n=10000, random_state=42)\n",
        "\n",
        "# Combine the samples\n",
        "sample_df = pd.concat([sample_zeros, sample_ones])\n",
        "\n",
        "# Shuffle the combined sample to mix the 0s and 1s\n",
        "sample_df = sample_df.sample(frac=1, random_state=42).reset_index(drop=True)\n",
        "\n",
        "# Check the distribution of the 'generated' column in the sample\n",
        "print(sample_df['generated'].value_counts())\n",
        "\n",
        "# Print sample size\n",
        "print(\"Sample size:\", len(sample_df))"
      ],
      "metadata": {
        "id": "CG8kEJ99RDrS",
        "outputId": "fa1d3deb-f69f-4f8f-bc71-77fb2e453201",
        "colab": {
          "base_uri": "https://localhost:8080/"
        }
      },
      "execution_count": null,
      "outputs": [
        {
          "output_type": "stream",
          "name": "stdout",
          "text": [
            "generated\n",
            "1.0    10000\n",
            "0.0    10000\n",
            "Name: count, dtype: int64\n",
            "Sample size: 20000\n"
          ]
        }
      ]
    },
    {
      "cell_type": "code",
      "source": [
        "sample_zeros.head()"
      ],
      "metadata": {
        "id": "kOCf4Ol3RYfX",
        "outputId": "4aea26b2-2f6f-4320-d6fa-a234feee14c5",
        "colab": {
          "base_uri": "https://localhost:8080/",
          "height": 206
        }
      },
      "execution_count": null,
      "outputs": [
        {
          "output_type": "execute_result",
          "data": {
            "text/plain": [
              "        Unnamed: 0                                               text  \\\n",
              "260481      260481  curfew keep teenager getting trouble city coun...   \n",
              "133303      133303  article challenge exploring venus author sugge...   \n",
              "291551      291551  thp rapid growth thp internet recent decade th...   \n",
              "451335      451335  electoral college way u united state citizen v...   \n",
              "461660      461660  technology calculate emotion people pretty muc...   \n",
              "\n",
              "        generated  \n",
              "260481        0.0  \n",
              "133303        0.0  \n",
              "291551        0.0  \n",
              "451335        0.0  \n",
              "461660        0.0  "
            ],
            "text/html": [
              "\n",
              "  <div id=\"df-b1bb0109-98df-46fa-92e1-e95e3810763a\" class=\"colab-df-container\">\n",
              "    <div>\n",
              "<style scoped>\n",
              "    .dataframe tbody tr th:only-of-type {\n",
              "        vertical-align: middle;\n",
              "    }\n",
              "\n",
              "    .dataframe tbody tr th {\n",
              "        vertical-align: top;\n",
              "    }\n",
              "\n",
              "    .dataframe thead th {\n",
              "        text-align: right;\n",
              "    }\n",
              "</style>\n",
              "<table border=\"1\" class=\"dataframe\">\n",
              "  <thead>\n",
              "    <tr style=\"text-align: right;\">\n",
              "      <th></th>\n",
              "      <th>Unnamed: 0</th>\n",
              "      <th>text</th>\n",
              "      <th>generated</th>\n",
              "    </tr>\n",
              "  </thead>\n",
              "  <tbody>\n",
              "    <tr>\n",
              "      <th>260481</th>\n",
              "      <td>260481</td>\n",
              "      <td>curfew keep teenager getting trouble city coun...</td>\n",
              "      <td>0.0</td>\n",
              "    </tr>\n",
              "    <tr>\n",
              "      <th>133303</th>\n",
              "      <td>133303</td>\n",
              "      <td>article challenge exploring venus author sugge...</td>\n",
              "      <td>0.0</td>\n",
              "    </tr>\n",
              "    <tr>\n",
              "      <th>291551</th>\n",
              "      <td>291551</td>\n",
              "      <td>thp rapid growth thp internet recent decade th...</td>\n",
              "      <td>0.0</td>\n",
              "    </tr>\n",
              "    <tr>\n",
              "      <th>451335</th>\n",
              "      <td>451335</td>\n",
              "      <td>electoral college way u united state citizen v...</td>\n",
              "      <td>0.0</td>\n",
              "    </tr>\n",
              "    <tr>\n",
              "      <th>461660</th>\n",
              "      <td>461660</td>\n",
              "      <td>technology calculate emotion people pretty muc...</td>\n",
              "      <td>0.0</td>\n",
              "    </tr>\n",
              "  </tbody>\n",
              "</table>\n",
              "</div>\n",
              "    <div class=\"colab-df-buttons\">\n",
              "\n",
              "  <div class=\"colab-df-container\">\n",
              "    <button class=\"colab-df-convert\" onclick=\"convertToInteractive('df-b1bb0109-98df-46fa-92e1-e95e3810763a')\"\n",
              "            title=\"Convert this dataframe to an interactive table.\"\n",
              "            style=\"display:none;\">\n",
              "\n",
              "  <svg xmlns=\"http://www.w3.org/2000/svg\" height=\"24px\" viewBox=\"0 -960 960 960\">\n",
              "    <path d=\"M120-120v-720h720v720H120Zm60-500h600v-160H180v160Zm220 220h160v-160H400v160Zm0 220h160v-160H400v160ZM180-400h160v-160H180v160Zm440 0h160v-160H620v160ZM180-180h160v-160H180v160Zm440 0h160v-160H620v160Z\"/>\n",
              "  </svg>\n",
              "    </button>\n",
              "\n",
              "  <style>\n",
              "    .colab-df-container {\n",
              "      display:flex;\n",
              "      gap: 12px;\n",
              "    }\n",
              "\n",
              "    .colab-df-convert {\n",
              "      background-color: #E8F0FE;\n",
              "      border: none;\n",
              "      border-radius: 50%;\n",
              "      cursor: pointer;\n",
              "      display: none;\n",
              "      fill: #1967D2;\n",
              "      height: 32px;\n",
              "      padding: 0 0 0 0;\n",
              "      width: 32px;\n",
              "    }\n",
              "\n",
              "    .colab-df-convert:hover {\n",
              "      background-color: #E2EBFA;\n",
              "      box-shadow: 0px 1px 2px rgba(60, 64, 67, 0.3), 0px 1px 3px 1px rgba(60, 64, 67, 0.15);\n",
              "      fill: #174EA6;\n",
              "    }\n",
              "\n",
              "    .colab-df-buttons div {\n",
              "      margin-bottom: 4px;\n",
              "    }\n",
              "\n",
              "    [theme=dark] .colab-df-convert {\n",
              "      background-color: #3B4455;\n",
              "      fill: #D2E3FC;\n",
              "    }\n",
              "\n",
              "    [theme=dark] .colab-df-convert:hover {\n",
              "      background-color: #434B5C;\n",
              "      box-shadow: 0px 1px 3px 1px rgba(0, 0, 0, 0.15);\n",
              "      filter: drop-shadow(0px 1px 2px rgba(0, 0, 0, 0.3));\n",
              "      fill: #FFFFFF;\n",
              "    }\n",
              "  </style>\n",
              "\n",
              "    <script>\n",
              "      const buttonEl =\n",
              "        document.querySelector('#df-b1bb0109-98df-46fa-92e1-e95e3810763a button.colab-df-convert');\n",
              "      buttonEl.style.display =\n",
              "        google.colab.kernel.accessAllowed ? 'block' : 'none';\n",
              "\n",
              "      async function convertToInteractive(key) {\n",
              "        const element = document.querySelector('#df-b1bb0109-98df-46fa-92e1-e95e3810763a');\n",
              "        const dataTable =\n",
              "          await google.colab.kernel.invokeFunction('convertToInteractive',\n",
              "                                                    [key], {});\n",
              "        if (!dataTable) return;\n",
              "\n",
              "        const docLinkHtml = 'Like what you see? Visit the ' +\n",
              "          '<a target=\"_blank\" href=https://colab.research.google.com/notebooks/data_table.ipynb>data table notebook</a>'\n",
              "          + ' to learn more about interactive tables.';\n",
              "        element.innerHTML = '';\n",
              "        dataTable['output_type'] = 'display_data';\n",
              "        await google.colab.output.renderOutput(dataTable, element);\n",
              "        const docLink = document.createElement('div');\n",
              "        docLink.innerHTML = docLinkHtml;\n",
              "        element.appendChild(docLink);\n",
              "      }\n",
              "    </script>\n",
              "  </div>\n",
              "\n",
              "\n",
              "<div id=\"df-38defcf9-7574-4449-8463-a3ae60dbdcc3\">\n",
              "  <button class=\"colab-df-quickchart\" onclick=\"quickchart('df-38defcf9-7574-4449-8463-a3ae60dbdcc3')\"\n",
              "            title=\"Suggest charts\"\n",
              "            style=\"display:none;\">\n",
              "\n",
              "<svg xmlns=\"http://www.w3.org/2000/svg\" height=\"24px\"viewBox=\"0 0 24 24\"\n",
              "     width=\"24px\">\n",
              "    <g>\n",
              "        <path d=\"M19 3H5c-1.1 0-2 .9-2 2v14c0 1.1.9 2 2 2h14c1.1 0 2-.9 2-2V5c0-1.1-.9-2-2-2zM9 17H7v-7h2v7zm4 0h-2V7h2v10zm4 0h-2v-4h2v4z\"/>\n",
              "    </g>\n",
              "</svg>\n",
              "  </button>\n",
              "\n",
              "<style>\n",
              "  .colab-df-quickchart {\n",
              "      --bg-color: #E8F0FE;\n",
              "      --fill-color: #1967D2;\n",
              "      --hover-bg-color: #E2EBFA;\n",
              "      --hover-fill-color: #174EA6;\n",
              "      --disabled-fill-color: #AAA;\n",
              "      --disabled-bg-color: #DDD;\n",
              "  }\n",
              "\n",
              "  [theme=dark] .colab-df-quickchart {\n",
              "      --bg-color: #3B4455;\n",
              "      --fill-color: #D2E3FC;\n",
              "      --hover-bg-color: #434B5C;\n",
              "      --hover-fill-color: #FFFFFF;\n",
              "      --disabled-bg-color: #3B4455;\n",
              "      --disabled-fill-color: #666;\n",
              "  }\n",
              "\n",
              "  .colab-df-quickchart {\n",
              "    background-color: var(--bg-color);\n",
              "    border: none;\n",
              "    border-radius: 50%;\n",
              "    cursor: pointer;\n",
              "    display: none;\n",
              "    fill: var(--fill-color);\n",
              "    height: 32px;\n",
              "    padding: 0;\n",
              "    width: 32px;\n",
              "  }\n",
              "\n",
              "  .colab-df-quickchart:hover {\n",
              "    background-color: var(--hover-bg-color);\n",
              "    box-shadow: 0 1px 2px rgba(60, 64, 67, 0.3), 0 1px 3px 1px rgba(60, 64, 67, 0.15);\n",
              "    fill: var(--button-hover-fill-color);\n",
              "  }\n",
              "\n",
              "  .colab-df-quickchart-complete:disabled,\n",
              "  .colab-df-quickchart-complete:disabled:hover {\n",
              "    background-color: var(--disabled-bg-color);\n",
              "    fill: var(--disabled-fill-color);\n",
              "    box-shadow: none;\n",
              "  }\n",
              "\n",
              "  .colab-df-spinner {\n",
              "    border: 2px solid var(--fill-color);\n",
              "    border-color: transparent;\n",
              "    border-bottom-color: var(--fill-color);\n",
              "    animation:\n",
              "      spin 1s steps(1) infinite;\n",
              "  }\n",
              "\n",
              "  @keyframes spin {\n",
              "    0% {\n",
              "      border-color: transparent;\n",
              "      border-bottom-color: var(--fill-color);\n",
              "      border-left-color: var(--fill-color);\n",
              "    }\n",
              "    20% {\n",
              "      border-color: transparent;\n",
              "      border-left-color: var(--fill-color);\n",
              "      border-top-color: var(--fill-color);\n",
              "    }\n",
              "    30% {\n",
              "      border-color: transparent;\n",
              "      border-left-color: var(--fill-color);\n",
              "      border-top-color: var(--fill-color);\n",
              "      border-right-color: var(--fill-color);\n",
              "    }\n",
              "    40% {\n",
              "      border-color: transparent;\n",
              "      border-right-color: var(--fill-color);\n",
              "      border-top-color: var(--fill-color);\n",
              "    }\n",
              "    60% {\n",
              "      border-color: transparent;\n",
              "      border-right-color: var(--fill-color);\n",
              "    }\n",
              "    80% {\n",
              "      border-color: transparent;\n",
              "      border-right-color: var(--fill-color);\n",
              "      border-bottom-color: var(--fill-color);\n",
              "    }\n",
              "    90% {\n",
              "      border-color: transparent;\n",
              "      border-bottom-color: var(--fill-color);\n",
              "    }\n",
              "  }\n",
              "</style>\n",
              "\n",
              "  <script>\n",
              "    async function quickchart(key) {\n",
              "      const quickchartButtonEl =\n",
              "        document.querySelector('#' + key + ' button');\n",
              "      quickchartButtonEl.disabled = true;  // To prevent multiple clicks.\n",
              "      quickchartButtonEl.classList.add('colab-df-spinner');\n",
              "      try {\n",
              "        const charts = await google.colab.kernel.invokeFunction(\n",
              "            'suggestCharts', [key], {});\n",
              "      } catch (error) {\n",
              "        console.error('Error during call to suggestCharts:', error);\n",
              "      }\n",
              "      quickchartButtonEl.classList.remove('colab-df-spinner');\n",
              "      quickchartButtonEl.classList.add('colab-df-quickchart-complete');\n",
              "    }\n",
              "    (() => {\n",
              "      let quickchartButtonEl =\n",
              "        document.querySelector('#df-38defcf9-7574-4449-8463-a3ae60dbdcc3 button');\n",
              "      quickchartButtonEl.style.display =\n",
              "        google.colab.kernel.accessAllowed ? 'block' : 'none';\n",
              "    })();\n",
              "  </script>\n",
              "</div>\n",
              "    </div>\n",
              "  </div>\n"
            ],
            "application/vnd.google.colaboratory.intrinsic+json": {
              "type": "dataframe",
              "variable_name": "sample_zeros",
              "summary": "{\n  \"name\": \"sample_zeros\",\n  \"rows\": 10000,\n  \"fields\": [\n    {\n      \"column\": \"Unnamed: 0\",\n      \"properties\": {\n        \"dtype\": \"number\",\n        \"std\": 136770,\n        \"min\": 16,\n        \"max\": 487214,\n        \"num_unique_values\": 10000,\n        \"samples\": [\n          404052,\n          343784,\n          237913\n        ],\n        \"semantic_type\": \"\",\n        \"description\": \"\"\n      }\n    },\n    {\n      \"column\": \"text\",\n      \"properties\": {\n        \"dtype\": \"string\",\n        \"num_unique_values\": 9961,\n        \"samples\": [\n          \"going seagoing cowboy friend helping task greece part europe thing like helping farm animal leading animal like pig cow thing later helping whacking others work work people fun helping people like one time canopy tornado bad place luck help making tho tone time lost word war ii got back greece went trip help others making contree rebuild contree way lost thing like lost home thing hold close hart o0f mast lost dog cat amoral home another thing like blongingand thing fun thin think help even every still gave therm aid food thing landing wear every still helped rebuild home thing moredrtatr tendon many think id east help thin let pair lost u ga\\u00ebtan held helped u war like day day day lost troop anomaly bach pair shouter midst mist bunker take musing killed men chain atom concuss helped lot people trouble giving food arm thing like biol ding sterol thing\",\n          \"car become ax every day part life american world rely ox car everything getting work getting food eat car get u would happen based using car maxy place based car whether permanently day car based car create stress also create harmful pollution damage health axd planet another reason car naturally dying axd becoming used le ix small community resident car completely based people gave car live ix carefree environment ax area 5 500 people given possible sold car live many people find relaxing worry car ix article ix german suburb life go ox without car hendrix walter express car always tense much happier way statistic take area show 70 percent people ix vauban car others could give car completely pay 40 000 along house buy garage way end development created carefree aloxg stress free environment suburban pioneer car let exhaust created gasoline axd diesel exhaust also know pollution damage planet along health ix paris car based partial dirty air ix world know city five day terrible smog engulfed city leaving people choice allow car drive smog cleared according information paris bass driving due smog almost 4 000 driver fixed continuing drive vehicle exception car bax plugin car hybrid axd car carrying three passenger cause le pollution day restriction car lifted axd car could drive smog cleared last reason limit use car everyone else stopping car use see hundred car filling highway parking lot driving road dox realize much car usage dropped ix passage end car culture adviser perspective doug short explaining april 2013 number mile drive per person early 9 percent peak axd equal country ix january 1995 car naturally dying something causing drop steadily one theory many american afford new car also many unemployed people driving work anymore lead question car dying american unable get hand ox new car need protect planet axd car usage killing planet axd releasing pollution air every time crack vehicle axd drive proceed inhale infected air hurt u worry car putting stressful environment also cause harm next time wait drive somewhere right road put key axd follow trend\",\n          \"true one main concern teacher student share summer break possibility student unable retain knowledge worked hard learn school year one proposed solution issue inclusion summer project school curriculum would keep student mind active learning debate surround proposal however whether student able design project year round curriculum already massively teacher lead appropriate time allow student take creative liberty learning summer break extension summer project student tend lead pretty similar academic career true able somewhat diversify area study high school required class remain within information student required learn summer one escape rigid rigorous schedule otherwise must always follow best time allow explore interest assignment jill impose le break able fill time something actually engaged grant freedom simultaneously fulfilling academic need furthermore true allowing student lead project would better summer liberty would also increase quality work submit overall undeniable truth student constant unmitigated access information online could hope find pulling jeb source solid jay find information project heavily reliant student much learning student assigned topic stand far le likely invest time committing research memory freedom pick something passionate however greater probability put effort producing paper teacher actually proud creativity independence crucial skill student pick carry throughout life school may teach lot classic skill like time management memorization opportunity self discovery leadership limited allowing student chance like would broaden horizon guide developing interest strength even potential shortcoming taking self supervised project would prepare real world complete project frequently student expected grow flourish must given chance expand beyond highly regulated school environment come issue summer project mean granting freedom expression need create truly engaging product would provide valuable life skill support path self expression steer ajay taking easy jay online plus would allow feel though one much needed break encroached taking account positive effect allowing student lead summer project would almost irresponsible grant freedom decide like create summer project\"\n        ],\n        \"semantic_type\": \"\",\n        \"description\": \"\"\n      }\n    },\n    {\n      \"column\": \"generated\",\n      \"properties\": {\n        \"dtype\": \"number\",\n        \"std\": 0.0,\n        \"min\": 0.0,\n        \"max\": 0.0,\n        \"num_unique_values\": 1,\n        \"samples\": [\n          0.0\n        ],\n        \"semantic_type\": \"\",\n        \"description\": \"\"\n      }\n    }\n  ]\n}"
            }
          },
          "metadata": {},
          "execution_count": 17
        }
      ]
    },
    {
      "cell_type": "code",
      "source": [
        "# Split dataset into training and testing sets\n",
        "X_train, X_test, y_train, y_test = train_test_split(sample_df['text'], sample_df['generated'], test_size=0.2, random_state=42)"
      ],
      "metadata": {
        "id": "t83IIHlhRV5N"
      },
      "execution_count": null,
      "outputs": []
    },
    {
      "cell_type": "code",
      "source": [
        "print(X_test)"
      ],
      "metadata": {
        "colab": {
          "base_uri": "https://localhost:8080/"
        },
        "id": "VeFxaUI1Sg71",
        "outputId": "86e4fb54-a4bc-4b1e-9bff-ea0b78cf9660"
      },
      "execution_count": null,
      "outputs": [
        {
          "output_type": "stream",
          "name": "stdout",
          "text": [
            "10650    think se change election popular vote presiden...\n",
            "2041     article challenge exploring venus effectively ...\n",
            "8668     throughout year fact year 2002 2014 numerous n...\n",
            "1114     soday many people go many country easily shey ...\n",
            "13902    dear principal writing express view possible p...\n",
            "                               ...                        \n",
            "4073     far driverless car also think concern driverle...\n",
            "7442     dear senator writing today express support abo...\n",
            "9999     often said positive attitude key success lira ...\n",
            "1870     io single answer question whether successful p...\n",
            "15196    evening star otherwise known genus dangerous p...\n",
            "Name: text, Length: 4000, dtype: object\n"
          ]
        }
      ]
    },
    {
      "cell_type": "code",
      "source": [
        "X_train_cleaned = np.where(pd.isnull(X_train), '', X_train)\n",
        "X_test_cleaned = np.where(pd.isnull(X_test), '', X_test)"
      ],
      "metadata": {
        "id": "uDTL7_pK7ojA"
      },
      "execution_count": null,
      "outputs": []
    },
    {
      "cell_type": "code",
      "source": [
        "print(X_test_cleaned)"
      ],
      "metadata": {
        "colab": {
          "base_uri": "https://localhost:8080/"
        },
        "id": "mp3rS0nKSkCB",
        "outputId": "08e433ec-1ee9-47c3-997e-dd8589f5abbf"
      },
      "execution_count": null,
      "outputs": [
        {
          "output_type": "stream",
          "name": "stdout",
          "text": [
            "['think se change election popular vote president united state se keep electoral college even earn individual vote might elected president earned individual vote elected president majority vote se keep electoral college elected president receive majority individual vote president elected electoral college still popular president people voted source 2 say consider state legislature technically responsible picking elector elector could always defy sill people sith electoral college elector chosen might elect shot hey said would sith election popular vote person elected sill always majority country santa president source 1 state state entitled allotment elector equal number member congressional delegation one member house representative plus tso senator state vote others someone running get state vote mean still elected get vote overall elector source 3 say advocate position correct arguing electoral college method democratic modern sense elector elect president people sith electoral college even though people vote one electing president source 3 also say vote presidential candidate actually voting slate elector whoever voting know slate elector still vote direction'\n",
            " 'article challenge exploring venus effectively convinces reader exploring venus beneficial despite dangerous environment author present balanced view discussing challenge opportunity exploring venus ultimately persuading reader support study planetary neighbor author successfully promotes exploration venus highlighting potential scientific breakthrough allure vivid imagery used describe venus hostile environment comparison atmosphere deepest ocean earth grab reader attention emphasizes importance overcoming challenge author also mention planet similarity earth past stirring curiosity imagination blimp like vehicle concept proposed nasa presented feasible solution study venus safely reinforcing idea exploration worthwhile article present several compelling piece evidence support value exploring venus author note venus hotbed natural disaster could provide valuable insight earth geological history additionally studying venus atmosphere could help u better understand climate change effect planet author also highlight potential technological advancement could arise challenge exploring venus development sophisticated lander rover structure article well organized clear introduction body conclusion author begin introducing challenge exploring venus transition discussing opportunity potential benefit conclusion effectively summarizes main point reiterates importance exploring venus conclusion author challenge exploring venus successfully convinces reader exploring venus beneficial despite risk article present balanced view highlighting challenge opportunity exploring planetary neighbor author use vivid imagery scientific evidence technological advancement support idea studying venus worthwhile article structure well organized making easy reader follow understand author argument ultimately article effectively promotes exploration venus encourages reader support important scientific endeavor'\n",
            " 'throughout year fact year 2002 2014 numerous newspaper reporter reported lack car actually benefit earth population also say advantage exactly advantage could prosper many car loving fan well actually 2 advantage people would love 1 people much happier 2 stress afflicts many today gone also park blooming throughout one city lack automobile let consider wonderful advantage car first people much happier without car car according new york time one mother medium trainer mother two report saying much happier way name hadron walter life area germany called vauban vauban city street parking driveway home garage generally forbidden enjoy kind happiness world full grim people want take driving car second stress people today gone one city park blooming according news reporter andrew silky seattle time writes word spoken one businessman bogotá colombia good opportunity take away stress mr silky also writes park blooming throughout city bogotá park sport center also bloomed throughout city advantage driving car pretty great conclusion advantage car drive numerous another reason drive car pollution list could go shown people happier stress free without drive car may ever happier drive car'\n",
            " ...\n",
            " 'often said positive attitude key success lira saying go attitude defining characteristic person main argument attitude person defining characteristic person attitude person position reeling regard race state position relative something else negative hostile state mind cocky arrogant manner point offensive personal remark attitude reflects much collection emotional behavioral trait characterize person distribution personal social trait well known u think attitude like definition spanish la altitude define lei persona neustria tacitus b male lei personal see alemán de uno pro solo persona con buena acid va samir bain case attitude difficult attitude lost many people lira many side evil attitude'\n",
            " 'io single answer question whether successful people try new thing take bioko people might day risk taking io potential outlaid might maintain io important delivered variety kill knowledge however believe risk taking trying new thing important two primary reason first risk taking trying new thing help uo learn grow ao individual make mistake io taking bioko trying new thing learn mistake become better people example college decided study abroad spain never spain know spanish however willing take risk try something new oo glad studying abroad one best experience life helped learn great deal culture second risk taking trying new thing lead outlaid many successful people achieved outlaid taking bioko trying new thing example richard brandon founder virgin group io risk taker hao started number successful buoineooeo hào never afraid try new thing hào helped achieve great outlaid conclusion believe risk taking trying new thing important two primary reason help uo learn grow ao individual lead outlaid encourage everyone take bioko try new thing never know might achieve'\n",
            " 'evening star otherwise known genus dangerous planet despite planet close u sent spacecraft past 30 year reason lot fact thick atmosphere almost 97 percent carbon dioxide cover genus even challenging cloud highly corrosive sulfuric acid venus atmosphere planet surface temperature average 800 degree fahrenheit mean lot time hotter surface planet atmospheric pressure also 90 time greater experience planet condition far extreme anything human encounter earth also genus hottest surface temperature planet solar system said would want go back reason astronomer think genus earth like planet believe genus probably covered largely ocean could supported various form life like earth adding today genus feature mountain valley nasa come idea would live yenus safely productive idea allow scientist float ground 30 mile exact hovering 30 mile ground safe ground condition nasa working approach study genus device used world war 2 calculates high pressure heat require electricity love idea going back genus exploring human unlimited imagination want truly civilization least two planet specie innovating learning got 100 year ago made first car imagine life like 100 year']\n"
          ]
        }
      ]
    },
    {
      "cell_type": "code",
      "source": [
        "# Vectorize text using TF-IDF\n",
        "vectorizer = TfidfVectorizer()\n",
        "# vectorizer = TfidfVectorizer(ngram_range=(3,3))\n",
        "X_train_tfidf = vectorizer.fit_transform(X_train_cleaned)\n",
        "X_test_tfidf = vectorizer.transform(X_test_cleaned)"
      ],
      "metadata": {
        "id": "qbd5DEjYYJiQ"
      },
      "execution_count": null,
      "outputs": []
    },
    {
      "cell_type": "code",
      "source": [
        "# save th tfidf vectorizer\n",
        "joblib.dump(vectorizer, 'vectorizer_tfidf.joblib')"
      ],
      "metadata": {
        "colab": {
          "base_uri": "https://localhost:8080/",
          "height": 159
        },
        "id": "6KmFvSv87sUt",
        "outputId": "a2f996ae-d2ab-4b19-9f8b-86d051e29a9b"
      },
      "execution_count": null,
      "outputs": [
        {
          "output_type": "error",
          "ename": "NameError",
          "evalue": "name 'joblib' is not defined",
          "traceback": [
            "\u001b[0;31m---------------------------------------------------------------------------\u001b[0m",
            "\u001b[0;31mNameError\u001b[0m                                 Traceback (most recent call last)",
            "\u001b[0;32m<ipython-input-23-54ac0b29d5af>\u001b[0m in \u001b[0;36m<cell line: 2>\u001b[0;34m()\u001b[0m\n\u001b[1;32m      1\u001b[0m \u001b[0;31m# save th tfidf vectorizer\u001b[0m\u001b[0;34m\u001b[0m\u001b[0;34m\u001b[0m\u001b[0m\n\u001b[0;32m----> 2\u001b[0;31m \u001b[0mjoblib\u001b[0m\u001b[0;34m.\u001b[0m\u001b[0mdump\u001b[0m\u001b[0;34m(\u001b[0m\u001b[0mvectorizer\u001b[0m\u001b[0;34m,\u001b[0m \u001b[0;34m'vectorizer_tfidf.joblib'\u001b[0m\u001b[0;34m)\u001b[0m\u001b[0;34m\u001b[0m\u001b[0;34m\u001b[0m\u001b[0m\n\u001b[0m",
            "\u001b[0;31mNameError\u001b[0m: name 'joblib' is not defined"
          ]
        }
      ]
    },
    {
      "cell_type": "code",
      "source": [
        "!cp /content/vectorizer_tfidf.joblib /content/drive/MyDrive/DMA/"
      ],
      "metadata": {
        "id": "43DvaX_N71Iq"
      },
      "execution_count": null,
      "outputs": []
    },
    {
      "cell_type": "code",
      "source": [
        "import joblib\n",
        "\n",
        "# Save the TF-IDF transformed features\n",
        "joblib.dump(X_train_tfidf, 'X_train_tfidf.joblib')\n",
        "joblib.dump(X_test_tfidf, 'X_test_tfidf.joblib')"
      ],
      "metadata": {
        "id": "tatHRwrs8_zl"
      },
      "execution_count": null,
      "outputs": []
    },
    {
      "cell_type": "code",
      "source": [
        "!cp /content/X_train_tfidf.joblib /content/drive/MyDrive/DMA/\n",
        "!cp /content/X_test_tfidf.joblib /content/drive/MyDrive/DMA/"
      ],
      "metadata": {
        "id": "56xqxNAmqdf7"
      },
      "execution_count": null,
      "outputs": []
    },
    {
      "cell_type": "code",
      "source": [
        "print(len(X_train_cleaned))"
      ],
      "metadata": {
        "id": "rqwFfvQwRoKQ"
      },
      "execution_count": null,
      "outputs": []
    },
    {
      "cell_type": "code",
      "source": [
        "# Vectorize text using TF-IDF Ngram\n",
        "vectorizer_ngram = TfidfVectorizer(ngram_range=(3,3))\n",
        "X_train_ngram = vectorizer_ngram.fit_transform(X_train_cleaned)\n",
        "X_test_ngram = vectorizer_ngram.transform(X_test_cleaned)"
      ],
      "metadata": {
        "id": "SkXbrQupk34c"
      },
      "execution_count": null,
      "outputs": []
    },
    {
      "cell_type": "code",
      "source": [
        "# save th ngram vectorizer\n",
        "joblib.dump(vectorizer_ngram, 'vectorizer_ngram.joblib')"
      ],
      "metadata": {
        "id": "sYyEnpdI8izg"
      },
      "execution_count": null,
      "outputs": []
    },
    {
      "cell_type": "code",
      "source": [
        "!cp /content/vectorizer_ngram.joblib /content/drive/MyDrive/DMA/"
      ],
      "metadata": {
        "id": "0A4EqlXV8mPf"
      },
      "execution_count": null,
      "outputs": []
    },
    {
      "cell_type": "code",
      "source": [
        "import joblib\n",
        "\n",
        "# Save the TF-IDF transformed features with ngram_range=(3,3)\n",
        "joblib.dump(X_train_ngram, 'X_train_ngram.joblib')\n",
        "joblib.dump(X_test_ngram, 'X_test_ngram.joblib')"
      ],
      "metadata": {
        "id": "UKPL9SDtlG0z"
      },
      "execution_count": null,
      "outputs": []
    },
    {
      "cell_type": "code",
      "source": [
        "# vectorizer_ngram\n",
        "joblib.dump(vectorizer_ngram, 'vectorizer_ngram.joblib')"
      ],
      "metadata": {
        "id": "g9q-PA_I5qDm"
      },
      "execution_count": null,
      "outputs": []
    },
    {
      "cell_type": "code",
      "source": [
        "!cp /content/X_train_ngram.joblib /content/drive/MyDrive/DMA/\n",
        "!cp /content/X_test_ngram.joblib /content/drive/MyDrive/DMA/"
      ],
      "metadata": {
        "id": "MRjG5jqItONN"
      },
      "execution_count": null,
      "outputs": []
    },
    {
      "cell_type": "code",
      "source": [
        "import joblib\n",
        "\n",
        "# Load the saved TF-IDF transformed features with TFIDF\n",
        "X_train_tfidf = joblib.load('X_train_tfidf.joblib')\n",
        "X_test_tfidf = joblib.load('X_test_tfidf.joblib')"
      ],
      "metadata": {
        "id": "zKBjcVw3lp1s"
      },
      "execution_count": null,
      "outputs": []
    },
    {
      "cell_type": "code",
      "source": [
        "import joblib\n",
        "\n",
        "# Load the saved TF-IDF transformed features with ngram_range=(3,3)\n",
        "X_train_ngram = joblib.load('X_train_ngram.joblib')\n",
        "X_test_ngram = joblib.load('X_test_ngram.joblib')"
      ],
      "metadata": {
        "id": "kFzaUDjul1UW"
      },
      "execution_count": null,
      "outputs": []
    },
    {
      "cell_type": "code",
      "source": [
        "# Train the model using Logistic Regression\n",
        "model = LogisticRegression(max_iter=1000)\n",
        "model.fit(X_train_tfidf, y_train)"
      ],
      "metadata": {
        "id": "QZkthZsnBriM"
      },
      "execution_count": null,
      "outputs": []
    },
    {
      "cell_type": "code",
      "source": [
        "# Predict and evaluate the model\n",
        "predictions = model.predict(X_test_tfidf)\n",
        "accuracy = accuracy_score(y_test, predictions)\n",
        "print(f'Accuracy: {accuracy}')"
      ],
      "metadata": {
        "id": "vKU7fyVwBtHA"
      },
      "execution_count": null,
      "outputs": []
    },
    {
      "cell_type": "code",
      "source": [
        "from sklearn.metrics import precision_score, recall_score, f1_score\n",
        "\n",
        "# Compute precision\n",
        "precision = precision_score(y_test, predictions, average='binary')\n",
        "\n",
        "# Compute recall\n",
        "recall = recall_score(y_test, predictions, average='binary')\n",
        "\n",
        "# Compute F1 score\n",
        "f1 = f1_score(y_test, predictions, average='binary')\n",
        "\n",
        "print(f'Precision: {precision}')\n",
        "print(f'Recall: {recall}')\n",
        "print(f'F1 Score: {f1}')"
      ],
      "metadata": {
        "id": "g8akJ2Ebmm7R"
      },
      "execution_count": null,
      "outputs": []
    },
    {
      "cell_type": "code",
      "source": [
        "# Train the model using Logistic Regression and ngrams\n",
        "model_ngrams = LogisticRegression(max_iter=1000)\n",
        "model_ngrams.fit(X_train_ngram, y_train)"
      ],
      "metadata": {
        "id": "BVWIVvc1uzev"
      },
      "execution_count": null,
      "outputs": []
    },
    {
      "cell_type": "code",
      "source": [
        "from sklearn.metrics import precision_score, recall_score, f1_score\n",
        "\n",
        "# Predict and evaluate the model_ngrams\n",
        "predictions_ngram = model_ngrams.predict(X_test_ngram)\n",
        "accuracy = accuracy_score(y_test, predictions_ngram)\n",
        "precision = precision_score(y_test, predictions_ngram, average='binary')\n",
        "recall = recall_score(y_test, predictions_ngram, average='binary')\n",
        "f1 = f1_score(y_test, predictions_ngram, average='binary')\n",
        "\n",
        "print(f'Accuracy: {accuracy}')\n",
        "print(f'Precision: {precision}')\n",
        "print(f'Recall: {recall}')\n",
        "print(f'F1 Score: {f1}')"
      ],
      "metadata": {
        "id": "_7VjmYeIu5al"
      },
      "execution_count": null,
      "outputs": []
    },
    {
      "cell_type": "code",
      "source": [
        "# save the model\n",
        "from joblib import dump\n",
        "\n",
        "dump(model_ngrams, 'logistic_regression_model_ngrams.joblib')"
      ],
      "metadata": {
        "id": "Bgk3ZZRFdbd1"
      },
      "execution_count": null,
      "outputs": []
    },
    {
      "cell_type": "code",
      "source": [
        "!cp /content/logistic_regression_model_ngrams.joblib /content/drive/MyDrive/DMA/"
      ],
      "metadata": {
        "id": "cLOPDuVT0wOR"
      },
      "execution_count": null,
      "outputs": []
    },
    {
      "cell_type": "code",
      "source": [
        "from sklearn.naive_bayes import MultinomialNB\n",
        "\n",
        "model_nb = MultinomialNB()\n",
        "model_nb.fit(X_train_tfidf, y_train)"
      ],
      "metadata": {
        "id": "cZrrfvfO5N3f"
      },
      "execution_count": null,
      "outputs": []
    },
    {
      "cell_type": "code",
      "source": [
        "dump(model_nb, 'naive_bayes_model_tfidf.joblib')"
      ],
      "metadata": {
        "id": "nNTkZvXd7J7R"
      },
      "execution_count": null,
      "outputs": []
    },
    {
      "cell_type": "code",
      "source": [
        "!cp /content/naive_bayes_model_tfidf.joblib /content/drive/MyDrive/DMA/"
      ],
      "metadata": {
        "id": "BFydgbse7QH3"
      },
      "execution_count": null,
      "outputs": []
    },
    {
      "cell_type": "code",
      "source": [
        "from sklearn.metrics import precision_score, recall_score, f1_score\n",
        "\n",
        "# Predict and evaluate the model_nb\n",
        "predictions_tfidf = model_nb.predict(X_test_tfidf)\n",
        "accuracy = accuracy_score(y_test, predictions_tfidf)\n",
        "precision = precision_score(y_test, predictions_tfidf, average='binary')\n",
        "recall = recall_score(y_test, predictions_tfidf, average='binary')\n",
        "f1 = f1_score(y_test, predictions_tfidf, average='binary')\n",
        "\n",
        "print(f'Accuracy: {accuracy}')\n",
        "print(f'Precision: {precision}')\n",
        "print(f'Recall: {recall}')\n",
        "print(f'F1 Score: {f1}')"
      ],
      "metadata": {
        "id": "xcW3Urbw53tu"
      },
      "execution_count": null,
      "outputs": []
    },
    {
      "cell_type": "code",
      "source": [
        "\n",
        "model_nb_ngrams = MultinomialNB()\n",
        "model_nb_ngrams.fit(X_train_ngram, y_train)"
      ],
      "metadata": {
        "id": "-G1x6rae6N_w"
      },
      "execution_count": null,
      "outputs": []
    },
    {
      "cell_type": "code",
      "source": [
        "dump(model_nb_ngrams, 'naive_bayes_model_ngrams.joblib')"
      ],
      "metadata": {
        "id": "d-qP4EYV7Xc9"
      },
      "execution_count": null,
      "outputs": []
    },
    {
      "cell_type": "code",
      "source": [
        "!cp /content/naive_bayes_model_ngrams.joblib /content/drive/MyDrive/DMA/"
      ],
      "metadata": {
        "id": "9jEcHGHV7aoZ"
      },
      "execution_count": null,
      "outputs": []
    },
    {
      "cell_type": "code",
      "source": [
        "predictions_ngram = model_nb_ngrams.predict(X_test_ngram)\n",
        "accuracy = accuracy_score(y_test, predictions_ngram)\n",
        "precision = precision_score(y_test, predictions_ngram, average='binary')\n",
        "recall = recall_score(y_test, predictions_ngram, average='binary')\n",
        "f1 = f1_score(y_test, predictions_ngram, average='binary')\n",
        "\n",
        "print(f'Accuracy: {accuracy}')\n",
        "print(f'Precision: {precision}')\n",
        "print(f'Recall: {recall}')\n",
        "print(f'F1 Score: {f1}')"
      ],
      "metadata": {
        "id": "vWXN30y86RgS"
      },
      "execution_count": null,
      "outputs": []
    },
    {
      "cell_type": "code",
      "source": [
        "from sklearn.model_selection import cross_val_score\n",
        "\n",
        "# Perform cross-validation\n",
        "cv_scores = cross_val_score(model, X_train_tfidf, y_train, cv=5)\n",
        "\n",
        "# Print cross-validation scores\n",
        "print(\"Cross-validation scores:\", cv_scores)\n",
        "print(\"Mean cross-validation score:\", cv_scores.mean())"
      ],
      "metadata": {
        "id": "ZfTA3qdsCvBv"
      },
      "execution_count": null,
      "outputs": []
    },
    {
      "cell_type": "code",
      "source": [
        "import matplotlib.pyplot as plt\n",
        "from sklearn.metrics import confusion_matrix\n",
        "import seaborn as sns\n",
        "\n",
        "# Calculate confusion matrix\n",
        "cm = confusion_matrix(y_test, predictions)\n",
        "\n",
        "# Plot confusion matrix\n",
        "plt.figure(figsize=(8, 6))\n",
        "sns.heatmap(cm, annot=True, fmt='d', cmap='Blues', xticklabels=['Human', 'AI-generated'], yticklabels=['Human', 'AI-generated'])\n",
        "plt.xlabel('Predicted')\n",
        "plt.ylabel('Actual')\n",
        "plt.title('Confusion Matrix')\n",
        "plt.show()"
      ],
      "metadata": {
        "id": "zZfBTrwJX-9T"
      },
      "execution_count": null,
      "outputs": []
    },
    {
      "cell_type": "code",
      "source": [
        "\n",
        "# Function to predict new texts\n",
        "def predict_text(text):\n",
        "    preprocessed_text = preprocess_text(text)\n",
        "    vectorized_text = vectorizer.transform([preprocessed_text])\n",
        "    prediction = model.predict(vectorized_text)\n",
        "    return \"AI-generated\" if prediction[0] == 1 else \"Human-written\""
      ],
      "metadata": {
        "id": "K4AoE51XX3-T"
      },
      "execution_count": null,
      "outputs": []
    },
    {
      "cell_type": "code",
      "source": [
        "test_text = \"I wiped perspiration from my face using my arm, craving another beer to quench my thirst. The chainsaw in my hand, my thoughts drifted to WOXO being off the air and the peculiar fogbank's origin – leading to Shaymore (pronounced Shammore locally) and the Arrowhead Project. According to Bill Giosti, the Arrowhead Project was the cause of the so-called Black Spring in Shaymore. In the western part, near the border with Stoneham, a government preserve with security measures existed, but its details remained elusive to me. Although I had never seen it, the Old Shaymore Road ran alongside the government land. The origin of the Arrowhead Project's name and its existence were shrouded in uncertainty. Bill Giosti claimed insider information through his niece at the Continental Phone Company, but details were vague. He asserted the project involved atomic experiments, shooting atoms into the air. Billy challenged this, citing that the air was already full of atoms, to which Bill Giosti insisted they were different. Dick Muehler suggested the project was merely an agricultural station for cultivating larger tomatoes with an extended growing season. Janine Lawless, the postlady, believed it to be a geological survey related to shale oil. Mrs. Carmody, however, aligned more with Bill Giosti's perspective, suggesting a more mysterious involvement with distinct atoms.As I continued cutting a large tree, Billy returned with a fresh beer and a note from Steff. Acknowledging his penchant for delivering messages, I accepted both and cautioned him against getting drunk at such an early hour.\"\n",
        "print(len(test_text))\n",
        "print(predict_text(test_text))"
      ],
      "metadata": {
        "id": "BneXJwEmKDAs"
      },
      "execution_count": null,
      "outputs": []
    },
    {
      "cell_type": "code",
      "source": [
        "chatGPT_test_text= \"In the quaint town of Willow Creek, nestled amidst rolling hills and whispering pines, there unfolded a love story that spanned decades, weaving its intricate threads through the tapestry of time. It began on a dew-kissed morning in spring when Emily, a spirited artist with a heart as vast as the cerulean skies above, stumbled upon a forgotten bookstore tucked away in a cobblestone alley. There, amidst the musty scent of old books and ink-stained pages, she met Gabriel, a melancholic poet with eyes that held galaxies within. Their initial encounter was brief, a fleeting moment that lingered in the corners of their minds like a whispered promise. Yet, fate had intertwined their destinies, and through a series of serendipitous events, their paths crossed again and again, each meeting deepening the connection between their souls. As seasons danced and years unfurled, Emily and Gabriel journeyed through the highs and lows of life together, their love blossoming like a perennial flower in the garden of their hearts. They shared laughter under the star-studded sky, found solace in each other's embrace during stormy nights, and reveled in the simple joys of everyday moments. But just as in any epic tale, their love was tested by trials and tribulations, challenging their commitment and resilience. Yet, through it all, they remained steadfast, their bond forged in the fires of adversity, emerging stronger and more enduring than ever before. And so, as the sun dipped below the horizon on a golden autumn evening, Emily and Gabriel stood hand in hand, surrounded by loved ones, exchanging vows beneath an ancient oak tree that had witnessed the evolution of their love. For theirs was a love story written in the stars, a timeless saga of passion, perseverance, and the enduring power of love to transcend the boundaries of time and space.\"\n",
        "\n",
        "print(len(chatGPT_test_text))\n",
        "print(predict_text(chatGPT_test_text))"
      ],
      "metadata": {
        "id": "NpRNZ_T7EKUb"
      },
      "execution_count": null,
      "outputs": []
    },
    {
      "cell_type": "code",
      "source": [
        "gemini_test_text = \"Eleanor, with her fiery hair and a laugh that could silence a crowded room, first met Ethan on a rainy Tuesday, their hands brushing over a dusty paperback in a cramped bookstore. Years melted into a kaleidoscope of shared dreams - stolen picnics under ancient oaks, whispered secrets under a sky ablaze with stars, the quiet comfort of two souls settling into one. Life wasn't a fairytale - there were arguments that scorched the air and misunderstandings that left a bitter taste, but through it all, their love remained a constant, a flickering candle in the storm. They built a life together, a mismatched quilt woven with threads of laughter, tears, the pitter-patter of tiny feet as their son, Liam, and daughter, Clara, learned to walk, and the bittersweet pang of letting go as Liam, with a mop of his father's dark hair and Eleanor's infectious grin, set off for college, followed a few years later by Clara, whose fiery spirit mirrored her mother's. Silver threads began to paint their hair, their laughter turned gentler, their gazes holding a lifetime of unspoken stories. Yet, even as their bodies aged, their love never faltered. They learned the language of knowing glances, the comfort of a hand held silently, the quiet understanding that bloomed after decades of being one another's confidante, best friend, and lover. They weathered storms, both literal and metaphorical, their love a sturdy oak weathering the harshest winds. There were hospital stays, the fear a cold knot in their chests, but they faced them together, a testament to a love that defied time. On a quiet Monday evening, years after that rainy Tuesday, Eleanor, her hand held tight in Ethan's, closed her eyes for the last time, a faint smile gracing her lips as if she saw something wonderful beyond the veil. Though the world dimmed a little for Ethan, the embers of their love, a love story whispered across decades, would forever glow warm in the chambers of his heart. He carried their story forward, finding solace in memories, in the worn armchair where they'd sat for countless evenings, in the garden brimming with flowers Eleanor had meticulously tended. He knew, with a certainty that transcended words, that their love story, a testament to the enduring power of connection, would echo through eternity. \"\n",
        "\n",
        "print(len(gemini_test_text))\n",
        "print(predict_text(gemini_test_text))"
      ],
      "metadata": {
        "id": "Ztvz4zDcEYdO"
      },
      "execution_count": null,
      "outputs": []
    },
    {
      "cell_type": "code",
      "source": [
        "gemini_test_text2 = \"A chance bookstore touch ignited a love that danced through decades. Laughter, dreams, tears, a son's mop of dark hair, a daughter's fiery spirit - their life a tapestry woven tight. Silver hair, gentle smiles, a love language in shared gazes. They weathered storms, hand in hand, a love stronger than time. One quiet Monday, her eyes closed, a faint smile - a love story whispered across decades, forever warm in his heart.\"\n",
        "\n",
        "print(len(gemini_test_text2))\n",
        "print(predict_text(gemini_test_text2))"
      ],
      "metadata": {
        "id": "VhjwRLbjFb5K"
      },
      "execution_count": null,
      "outputs": []
    },
    {
      "cell_type": "code",
      "source": [
        "chatGPT_test_text2 = \"In the cozy little town of Willow Creek, with its rolling hills and whispering pines, there unfolded a love story that spanned decades, weaving its intricate threads through the fabric of time. It all started one spring morning, when Emily, a vibrant artist with a heart as boundless as the sky above, stumbled upon an old bookstore tucked away in a cobblestone alley. There, amid the scent of aging books and ink-stained pages, she met Gabriel, a brooding poet with eyes that seemed to hold entire universes within them. Their first meeting was fleeting, but it left an indelible mark on their hearts, setting the stage for a series of chance encounters that brought them closer together with each passing moment. Through seasons of joy and sorrow, Emily and Gabriel journeyed side by side, finding solace in each other's arms during the darkest of nights and rejoicing in the simple pleasures of everyday life. Their love endured trials and tribulations, emerging stronger with each obstacle they faced. And so, on a crisp autumn evening, surrounded by family and friends beneath the branches of an ancient oak tree, Emily and Gabriel exchanged vows, sealing their love in a moment that felt as timeless as the stars above. For theirs was a love story written in the very fabric of the universe, a testament to the enduring power of love to conquer all obstacles and stand the test of time.\"\n",
        "\n",
        "print(len(chatGPT_test_text2))\n",
        "print(predict_text(chatGPT_test_text2))"
      ],
      "metadata": {
        "id": "TCczH294EosB"
      },
      "execution_count": null,
      "outputs": []
    },
    {
      "cell_type": "code",
      "source": [],
      "metadata": {
        "id": "AqbRrP6oE2j5"
      },
      "execution_count": null,
      "outputs": []
    },
    {
      "cell_type": "markdown",
      "source": [
        "# BERT"
      ],
      "metadata": {
        "id": "BStA5cvGG731"
      }
    },
    {
      "cell_type": "code",
      "source": [
        "# Preprocessing\n",
        "X_train_cleaned = np.where(pd.isnull(X_train), '', X_train)\n",
        "X_test_cleaned = np.where(pd.isnull(X_test), '', X_test)\n",
        "\n",
        "# Split data into training and validation sets\n",
        "X_train, X_val, y_train, y_val = train_test_split(X_train_cleaned, y_train, test_size=0.1, random_state=42)"
      ],
      "metadata": {
        "id": "4-0wp7uFG814"
      },
      "execution_count": null,
      "outputs": []
    },
    {
      "cell_type": "code",
      "source": [
        "print(len(X_train))\n",
        "print(len(y_train))\n",
        "\n",
        "print(len(X_val))\n",
        "print(len(y_val))\n"
      ],
      "metadata": {
        "colab": {
          "base_uri": "https://localhost:8080/"
        },
        "id": "kLVUqvKRRtvu",
        "outputId": "99eff66c-31dc-4304-8019-b4c58811174f"
      },
      "execution_count": null,
      "outputs": [
        {
          "output_type": "stream",
          "name": "stdout",
          "text": [
            "14400\n",
            "14400\n",
            "1600\n",
            "1600\n"
          ]
        }
      ]
    },
    {
      "cell_type": "code",
      "source": [
        "# Load the pre-trained BERT tokenizer\n",
        "tokenizer = BertTokenizer.from_pretrained('bert-base-uncased')"
      ],
      "metadata": {
        "colab": {
          "base_uri": "https://localhost:8080/",
          "height": 249,
          "referenced_widgets": [
            "bb6a942fce074c89b8d1a305337272ec",
            "bf564e27f3aa40cda9bdfbb905ebbd36",
            "457fe63a408745159f22e9baa853e14a",
            "96bad0ec0f544e17aec3ee2cc28390f5",
            "7edc1f1077ce45dc80b64def4c6b0bc7",
            "144d7db8d46d4e7b83f5ed765f02f1ef",
            "9d6285565ffa4d0e8fd9b77143f14be4",
            "d5f9a15b06d24dd2a54c2f150417487c",
            "cc1c21150f474678802133e93c3a9ee0",
            "a9bee99ccd574a45839186941294abb1",
            "7b964d4a0f024848b1da15f7a576b852",
            "cc125c480dcd415586c7ef4c3f970059",
            "69021db12aef4f3db91adac87e7f03eb",
            "47553a126c59469588e7f3f984e02593",
            "48522b4b01de4c9db1054f395c7c07a1",
            "19f89439cfa74c61b7e9b9cd333edcc1",
            "cd1e07bcef5d45a4aecf5de0fa3b123a",
            "e5bfaa8156a9418bb602315d2d0dc852",
            "5c04ebf75ba345678c16431cf21052fd",
            "29346ec24fc1466a8c4cc2eaae7391a5",
            "8edd77ae5eb840bba9ed5914f2f97d68",
            "d1f76db82578446f9794f634439c906c",
            "84d9e84d4bfa48b2b78f719ce7efc974",
            "4879f12dda834b79a9c418dd52189d57",
            "cfd7f70fbc3e45f381747ca681cc9a6a",
            "6c0ac88e8bb646328dd150ecfa6d6d06",
            "f619621e7fa94657bae588525e688b75",
            "408cd8ee30e249fea85b1cc5862672e6",
            "d3db075037fa4534b8e1345a8e433b5d",
            "f4347e12a16b458898c696e3a8f15030",
            "ae220845a81f4d29acd6427d7b5d6724",
            "c9e09502f9944d63a12b21366403781b",
            "0b9b24bbe51d4fe1bcbd6b2e68d7c88b",
            "72a8dcf98c8c4b6f89e1f216bd7c4622",
            "0295e9f611a048ffb7a271e0a5aec9af",
            "71cd586ad9ac4793a2863d96ecb956b7",
            "d9eac170795a421091cef54ce6891cc9",
            "fe5ad7f4854b4555aa080df18866f79a",
            "83e21d5a2cca465fa832155cc237147c",
            "baec1998d597469089b4c5c97ef377b7",
            "d12c934588024eb68563bc4ca17cf269",
            "9bbebfe7fa5d42babf4550fa4081da3f",
            "35fbca6e7c494110b955f178731d0c6d",
            "fee93d37bdb84a86a5df2ba17834ae88"
          ]
        },
        "id": "JGnu_ucIG_8R",
        "outputId": "65014b05-6fcd-47ff-d41f-cd7e8b7e2ad1"
      },
      "execution_count": null,
      "outputs": [
        {
          "output_type": "stream",
          "name": "stderr",
          "text": [
            "/usr/local/lib/python3.10/dist-packages/huggingface_hub/utils/_token.py:88: UserWarning: \n",
            "The secret `HF_TOKEN` does not exist in your Colab secrets.\n",
            "To authenticate with the Hugging Face Hub, create a token in your settings tab (https://huggingface.co/settings/tokens), set it as secret in your Google Colab and restart your session.\n",
            "You will be able to reuse this secret in all of your notebooks.\n",
            "Please note that authentication is recommended but still optional to access public models or datasets.\n",
            "  warnings.warn(\n"
          ]
        },
        {
          "output_type": "display_data",
          "data": {
            "text/plain": [
              "tokenizer_config.json:   0%|          | 0.00/48.0 [00:00<?, ?B/s]"
            ],
            "application/vnd.jupyter.widget-view+json": {
              "version_major": 2,
              "version_minor": 0,
              "model_id": "bb6a942fce074c89b8d1a305337272ec"
            }
          },
          "metadata": {}
        },
        {
          "output_type": "display_data",
          "data": {
            "text/plain": [
              "vocab.txt:   0%|          | 0.00/232k [00:00<?, ?B/s]"
            ],
            "application/vnd.jupyter.widget-view+json": {
              "version_major": 2,
              "version_minor": 0,
              "model_id": "cc125c480dcd415586c7ef4c3f970059"
            }
          },
          "metadata": {}
        },
        {
          "output_type": "display_data",
          "data": {
            "text/plain": [
              "tokenizer.json:   0%|          | 0.00/466k [00:00<?, ?B/s]"
            ],
            "application/vnd.jupyter.widget-view+json": {
              "version_major": 2,
              "version_minor": 0,
              "model_id": "84d9e84d4bfa48b2b78f719ce7efc974"
            }
          },
          "metadata": {}
        },
        {
          "output_type": "display_data",
          "data": {
            "text/plain": [
              "config.json:   0%|          | 0.00/570 [00:00<?, ?B/s]"
            ],
            "application/vnd.jupyter.widget-view+json": {
              "version_major": 2,
              "version_minor": 0,
              "model_id": "72a8dcf98c8c4b6f89e1f216bd7c4622"
            }
          },
          "metadata": {}
        }
      ]
    },
    {
      "cell_type": "code",
      "source": [
        "# Tokenize the text data\n",
        "train_encodings = tokenizer(X_train.tolist(), truncation=True, padding=True, max_length=128)\n",
        "val_encodings = tokenizer(X_val.tolist(), truncation=True, padding=True, max_length=128)\n",
        "test_encodings = tokenizer(X_test_cleaned.tolist(), truncation=True, padding=True, max_length=128)"
      ],
      "metadata": {
        "id": "_c7NNyUbHCkM"
      },
      "execution_count": null,
      "outputs": []
    },
    {
      "cell_type": "code",
      "source": [
        "y_train_int = y_train.astype(int)\n",
        "y_val_int = y_val.astype(int)\n",
        "\n",
        "\n",
        "# Convert labels to tensors\n",
        "y_train_tensor = torch.tensor(y_train_int.tolist())\n",
        "y_val_tensor = torch.tensor(y_val_int.tolist())"
      ],
      "metadata": {
        "id": "Q6KmjhEKHFgp"
      },
      "execution_count": null,
      "outputs": []
    },
    {
      "cell_type": "code",
      "source": [
        "print(y_train_tensor)"
      ],
      "metadata": {
        "colab": {
          "base_uri": "https://localhost:8080/"
        },
        "id": "-hXeMTsWX-Tg",
        "outputId": "5ec7b4c4-7094-46e5-da23-4fbe7d52c0cc"
      },
      "execution_count": null,
      "outputs": [
        {
          "output_type": "stream",
          "name": "stdout",
          "text": [
            "tensor([1, 0, 1,  ..., 1, 1, 0])\n"
          ]
        }
      ]
    },
    {
      "cell_type": "code",
      "source": [
        "# Convert tokenized inputs to PyTorch tensors\n",
        "train_dataset = TensorDataset(torch.tensor(train_encodings['input_ids']),\n",
        "                              torch.tensor(train_encodings['attention_mask']),\n",
        "                              y_train_tensor)\n",
        "val_dataset = TensorDataset(torch.tensor(val_encodings['input_ids']),\n",
        "                            torch.tensor(val_encodings['attention_mask']),\n",
        "                            y_val_tensor)\n",
        "test_dataset = TensorDataset(torch.tensor(test_encodings['input_ids']),\n",
        "                             torch.tensor(test_encodings['attention_mask']))\n"
      ],
      "metadata": {
        "id": "pTA5YG5MHMzP"
      },
      "execution_count": null,
      "outputs": []
    },
    {
      "cell_type": "code",
      "source": [
        "# Define the batch size and create data loaders\n",
        "batch_size = 256\n",
        "train_loader = DataLoader(train_dataset, batch_size=batch_size, shuffle=True)\n",
        "val_loader = DataLoader(val_dataset, batch_size=batch_size, shuffle=False)\n",
        "test_loader = DataLoader(test_dataset, batch_size=batch_size, shuffle=False)"
      ],
      "metadata": {
        "id": "cajmw6ObHQ27"
      },
      "execution_count": null,
      "outputs": []
    },
    {
      "cell_type": "code",
      "source": [
        "# Load the pre-trained BERT model for sequence classification\n",
        "model = BertForSequenceClassification.from_pretrained('bert-base-uncased', num_labels=2)\n",
        "\n",
        "# Define the optimizer\n",
        "optimizer = AdamW(model.parameters(), lr=2e-5)\n",
        "\n",
        "# Define the device (CPU or GPU)\n",
        "device = torch.device('cuda' if torch.cuda.is_available() else 'cpu')\n",
        "# device = torch.device('cpu')\n",
        "model.to(device)"
      ],
      "metadata": {
        "id": "vgYQlOJJHUBV"
      },
      "execution_count": null,
      "outputs": []
    },
    {
      "cell_type": "code",
      "source": [
        "# Training loop\n",
        "epochs = 3\n",
        "for epoch in range(epochs):\n",
        "    model.train()\n",
        "    total_loss = 0\n",
        "    for batch in tqdm(train_loader):\n",
        "        input_ids, attention_mask, labels = batch\n",
        "        input_ids, attention_mask, labels = input_ids.to(device), attention_mask.to(device), labels.to(device)\n",
        "        optimizer.zero_grad()\n",
        "        outputs = model(input_ids, attention_mask=attention_mask, labels=labels)\n",
        "        loss = outputs.loss\n",
        "        total_loss += loss.item()\n",
        "        loss.backward()\n",
        "        optimizer.step()\n",
        "    avg_train_loss = total_loss / len(train_loader)\n",
        "\n",
        "    # Validation\n",
        "    model.eval()\n",
        "    val_preds = []\n",
        "    val_labels = []\n",
        "    with torch.no_grad():\n",
        "        for batch in val_loader:\n",
        "            input_ids, attention_mask, labels = batch\n",
        "            input_ids, attention_mask, labels = input_ids.to(device), attention_mask.to(device), labels.to(device)\n",
        "            outputs = model(input_ids, attention_mask=attention_mask)\n",
        "            logits = outputs.logits\n",
        "            _, predicted_labels = torch.max(logits, 1)\n",
        "            val_preds.extend(predicted_labels.cpu().numpy())\n",
        "            val_labels.extend(labels.cpu().numpy())\n",
        "    val_accuracy = accuracy_score(val_labels, val_preds)\n",
        "\n",
        "    print(f'Epoch {epoch + 1}/{epochs}, Train Loss: {avg_train_loss:.4f}, Val Accuracy: {val_accuracy:.4f}')"
      ],
      "metadata": {
        "id": "ic6DpPC1HYAA"
      },
      "execution_count": null,
      "outputs": []
    },
    {
      "cell_type": "code",
      "source": [
        "# Testing\n",
        "model.eval()\n",
        "test_preds = []\n",
        "test_texts = []  # Store input text\n",
        "with torch.no_grad():\n",
        "    for batch in test_loader:\n",
        "        input_ids, attention_mask = batch\n",
        "        input_ids, attention_mask = input_ids.to(device), attention_mask.to(device)\n",
        "        outputs = model(input_ids, attention_mask=attention_mask)\n",
        "        logits = outputs.logits\n",
        "        _, predicted_labels = torch.max(logits, 1)\n",
        "        test_preds.extend(predicted_labels.cpu().numpy())\n",
        "        test_texts.extend(tokenizer.batch_decode(input_ids, skip_special_tokens=True))  # Decode input text"
      ],
      "metadata": {
        "id": "sJtCgFnPHZky"
      },
      "execution_count": null,
      "outputs": []
    },
    {
      "cell_type": "code",
      "source": [
        "from sklearn.metrics import accuracy_score, f1_score, precision_score, recall_score\n",
        "\n",
        "# Assuming you have the true labels for your test data stored in `true_labels`\n",
        "true_labels = torch.tensor(y_test.tolist())\n",
        "\n",
        "# Convert test_preds to numpy array\n",
        "test_preds = np.array(test_preds)\n",
        "\n",
        "# Calculate Accuracy\n",
        "accuracy = accuracy_score(true_labels, test_preds)\n",
        "\n",
        "# Calculate F1 Score\n",
        "f1 = f1_score(true_labels, test_preds, average='weighted')\n",
        "\n",
        "# Calculate Precision\n",
        "precision = precision_score(true_labels, test_preds, average='weighted')\n",
        "\n",
        "# Calculate Recall\n",
        "recall = recall_score(true_labels, test_preds, average='weighted')\n",
        "\n",
        "# Print the metrics\n",
        "print(f\"Accuracy: {accuracy}\")\n",
        "print(f\"F1 Score: {f1}\")\n",
        "print(f\"Precision: {precision}\")\n",
        "print(f\"Recall: {recall}\")"
      ],
      "metadata": {
        "colab": {
          "base_uri": "https://localhost:8080/"
        },
        "id": "UcD04VCDbTmp",
        "outputId": "833698f4-3b2b-42e4-b582-069598bd9238"
      },
      "execution_count": null,
      "outputs": [
        {
          "output_type": "stream",
          "name": "stdout",
          "text": [
            "Accuracy: 0.9655\n",
            "F1 Score: 0.9654683107484433\n",
            "Precision: 0.9661740048680276\n",
            "Recall: 0.9655\n"
          ]
        }
      ]
    },
    {
      "cell_type": "code",
      "source": [
        "torch.save(model, 'bert_model.pth')"
      ],
      "metadata": {
        "id": "jMg8HxsYNx0p"
      },
      "execution_count": null,
      "outputs": []
    },
    {
      "cell_type": "code",
      "source": [
        "!cp /content/bert_model.pth /content/drive/MyDrive/DMA/"
      ],
      "metadata": {
        "id": "Vwzni9D2N0IL"
      },
      "execution_count": null,
      "outputs": []
    },
    {
      "cell_type": "code",
      "source": [
        "\"\"\"\n",
        "model = torch.load('/content/drive/MyDrive/DMA/bert_model.pth')\n",
        "\"\"\""
      ],
      "metadata": {
        "colab": {
          "base_uri": "https://localhost:8080/",
          "height": 35
        },
        "id": "8vzZz0M1OBKC",
        "outputId": "cb41e5a9-8d7b-401f-e2ed-a70694cfc467"
      },
      "execution_count": null,
      "outputs": [
        {
          "output_type": "execute_result",
          "data": {
            "text/plain": [
              "\"\\nmodel = torch.load('bert_model.pth')\\n\""
            ],
            "application/vnd.google.colaboratory.intrinsic+json": {
              "type": "string"
            }
          },
          "metadata": {},
          "execution_count": 42
        }
      ]
    },
    {
      "cell_type": "markdown",
      "source": [
        "# Test"
      ],
      "metadata": {
        "id": "3OBg8WmbQFB8"
      }
    },
    {
      "cell_type": "code",
      "source": [
        "file_path = \"human_text.txt\"\n",
        "\n",
        "with open(file_path, \"r\") as file:\n",
        "    human_lines = file.readlines()\n",
        "    human_lines = [preprocess_text(line.strip()) for line in human_lines if line.strip()]\n",
        "\n",
        "print(len(human_lines))"
      ],
      "metadata": {
        "colab": {
          "base_uri": "https://localhost:8080/"
        },
        "id": "IizZj8fqQF76",
        "outputId": "69e12135-4269-4938-8080-659aaf62aa6d"
      },
      "execution_count": null,
      "outputs": [
        {
          "output_type": "stream",
          "name": "stdout",
          "text": [
            "7\n"
          ]
        }
      ]
    },
    {
      "cell_type": "code",
      "source": [
        "file_path = \"GPT4.txt\"\n",
        "\n",
        "with open(file_path, \"r\") as file:\n",
        "    lines = file.readlines()\n",
        "    lines = [preprocess_text(line.strip()) for line in lines if line.strip()]\n",
        "\n",
        "print(len(lines))"
      ],
      "metadata": {
        "colab": {
          "base_uri": "https://localhost:8080/"
        },
        "id": "UkpJHUMuSR9K",
        "outputId": "1724a4de-cc37-4baa-cfb7-65a7b31e3ab2"
      },
      "execution_count": null,
      "outputs": [
        {
          "output_type": "stream",
          "name": "stdout",
          "text": [
            "9\n"
          ]
        }
      ]
    },
    {
      "cell_type": "code",
      "source": [
        "def average_line_length(lines):\n",
        "    total_length = sum(len(line) for line in lines)\n",
        "    num_lines = len(lines)\n",
        "    average_length = total_length / num_lines if num_lines > 0 else 0\n",
        "    return average_length\n",
        "\n",
        "print(\"GPT4: \",average_line_length(lines))\n",
        "print(\"Human: \",average_line_length(human_lines))"
      ],
      "metadata": {
        "colab": {
          "base_uri": "https://localhost:8080/"
        },
        "id": "s2LIb7hVXthW",
        "outputId": "1e0a3cd2-75cc-45ad-a967-591f7e61985b"
      },
      "execution_count": null,
      "outputs": [
        {
          "output_type": "stream",
          "name": "stdout",
          "text": [
            "GPT4:  1748.5555555555557\n",
            "Human:  3814.0\n"
          ]
        }
      ]
    },
    {
      "cell_type": "code",
      "source": [
        "df = pd.DataFrame({'X': human_lines + lines, 'y': [0]*len(human_lines) + [1]*len(lines)})\n",
        "\n",
        "# Displaying the DataFrame\n",
        "print(df)"
      ],
      "metadata": {
        "colab": {
          "base_uri": "https://localhost:8080/"
        },
        "id": "WvCdfcfqTnfp",
        "outputId": "101d850c-8381-4d46-8aa2-05a9efaf15f3"
      },
      "execution_count": null,
      "outputs": [
        {
          "output_type": "stream",
          "name": "stdout",
          "text": [
            "                                                    X  y\n",
            "0   man found standing alone prairie large strong ...  0\n",
            "1   dear cassandra letter agreeable surprise day t...  0\n",
            "2   model general smart grid system considered stu...  0\n",
            "3   introduction evolutionary ensemble learning em...  0\n",
            "4   headline appeared opinion page tuesday strikin...  0\n",
            "5   artificial intelligence ai undoubtedly revolut...  0\n",
            "6   pay attention enough notice sometimes resist s...  0\n",
            "7   amidst emerald embrace ancient tree sunlight f...  1\n",
            "8   climate change critical issue time global phen...  1\n",
            "9   bermuda triangle region western part north atl...  1\n",
            "10  quantum entanglement phenomenon intrigued baff...  1\n",
            "11  intersectional feminism term coined kimberlé c...  1\n",
            "12  culinary fusion concept revolutionized food in...  1\n",
            "13  space exploration colonization concept captiva...  1\n",
            "14  grand scheme thing find middle 20th century be...  1\n",
            "15  dawn 20th century stand precipice new era worl...  1\n"
          ]
        }
      ]
    },
    {
      "cell_type": "markdown",
      "source": [
        "## Logistic Regression test"
      ],
      "metadata": {
        "id": "khdvnJtZQdQH"
      }
    },
    {
      "cell_type": "markdown",
      "source": [
        "### TFIDF Model"
      ],
      "metadata": {
        "id": "yvSqjMatQg01"
      }
    },
    {
      "cell_type": "code",
      "source": [
        "import joblib\n",
        "\n",
        "# Load the saved TF-IDF transformed features with TFIDF\n",
        "X_train_tfidf = joblib.load('/content/drive/MyDrive/DMA/X_train_tfidf.joblib')\n",
        "X_test_tfidf = joblib.load('/content/drive/MyDrive/DMA/X_test_tfidf.joblib')"
      ],
      "metadata": {
        "id": "WGlKPvcaQHoh"
      },
      "execution_count": null,
      "outputs": []
    },
    {
      "cell_type": "code",
      "source": [
        "log_model_tfidf = joblib.load('/content/drive/MyDrive/DMA/logistic_regression_model_tfidf.joblib')\n",
        "tfidf_vectorizer = joblib.load('/content/drive/MyDrive/DMA/tfidf_vectorizer.joblib')"
      ],
      "metadata": {
        "id": "lYbwsSrNQw-R"
      },
      "execution_count": null,
      "outputs": []
    },
    {
      "cell_type": "code",
      "source": [
        "TFIDF_test = tfidf_vectorizer.transform(df['X'])"
      ],
      "metadata": {
        "id": "z7OAdJKRRk_v"
      },
      "execution_count": null,
      "outputs": []
    },
    {
      "cell_type": "code",
      "source": [
        "preds = log_model_tfidf.predict(TFIDF_test)"
      ],
      "metadata": {
        "id": "n3VHEIDcSANq"
      },
      "execution_count": null,
      "outputs": []
    },
    {
      "cell_type": "code",
      "source": [
        "from sklearn.metrics import accuracy_score, precision_score, recall_score, f1_score\n",
        "\n",
        "def calculate_metrics(y_true, y_pred):\n",
        "    accuracy = accuracy_score(y_true, y_pred)\n",
        "    precision = precision_score(y_true, y_pred, average='binary', zero_division=1)\n",
        "    recall = recall_score(y_true, y_pred, average='binary', zero_division=1)\n",
        "    f1 = f1_score(y_true, y_pred, average='binary')\n",
        "\n",
        "    print(f'Accuracy: {accuracy}')\n",
        "    print(f'Precision: {precision}')\n",
        "    print(f'Recall: {recall}')\n",
        "    print(f'F1 Score: {f1}')\n",
        "\n",
        "    return accuracy, precision, recall, f1"
      ],
      "metadata": {
        "id": "q5PrVewwTCqb"
      },
      "execution_count": null,
      "outputs": []
    },
    {
      "cell_type": "code",
      "source": [
        "print(df['y'])\n",
        "print(preds)"
      ],
      "metadata": {
        "colab": {
          "base_uri": "https://localhost:8080/"
        },
        "id": "LCl6A6n9Wgia",
        "outputId": "f2b1a792-4c1d-4aff-8a83-20824e3ab56e"
      },
      "execution_count": null,
      "outputs": [
        {
          "output_type": "stream",
          "name": "stdout",
          "text": [
            "0     0\n",
            "1     0\n",
            "2     0\n",
            "3     0\n",
            "4     0\n",
            "5     0\n",
            "6     0\n",
            "7     1\n",
            "8     1\n",
            "9     1\n",
            "10    1\n",
            "11    1\n",
            "12    1\n",
            "13    1\n",
            "14    1\n",
            "15    1\n",
            "Name: y, dtype: int64\n",
            "[0. 0. 1. 1. 0. 1. 1. 1. 1. 1. 1. 1. 1. 1. 1. 1.]\n"
          ]
        }
      ]
    },
    {
      "cell_type": "code",
      "source": [
        "accuracy, precision, recall, f1 = calculate_metrics(df['y'], preds)"
      ],
      "metadata": {
        "colab": {
          "base_uri": "https://localhost:8080/"
        },
        "id": "0Wxbzc3dVoQC",
        "outputId": "d9861e79-ef7a-4f82-c6dc-c325a6026316"
      },
      "execution_count": null,
      "outputs": [
        {
          "output_type": "stream",
          "name": "stdout",
          "text": [
            "Accuracy: 0.75\n",
            "Precision: 0.6923076923076923\n",
            "Recall: 1.0\n",
            "F1 Score: 0.8181818181818181\n"
          ]
        }
      ]
    },
    {
      "cell_type": "markdown",
      "source": [
        "### NGrams"
      ],
      "metadata": {
        "id": "idamnpoKU-c0"
      }
    },
    {
      "cell_type": "code",
      "source": [
        "import joblib\n",
        "\n",
        "# Load the saved TF-IDF transformed features with ngrams\n",
        "X_train_ngrams = joblib.load('/content/drive/MyDrive/DMA/X_train_ngram.joblib')\n",
        "X_test_ngrams = joblib.load('/content/drive/MyDrive/DMA/X_test_ngram.joblib')"
      ],
      "metadata": {
        "id": "rtlitlQQVvYf"
      },
      "execution_count": null,
      "outputs": []
    },
    {
      "cell_type": "code",
      "source": [
        "log_model_ngram = joblib.load('/content/drive/MyDrive/DMA/logistic_regression_model_ngrams.joblib')\n",
        "ngram_vectorizer = joblib.load('/content/drive/MyDrive/DMA/vectorizer_ngram.joblib')"
      ],
      "metadata": {
        "id": "7oPip3erVVNZ"
      },
      "execution_count": null,
      "outputs": []
    },
    {
      "cell_type": "code",
      "source": [
        "ngram_test = ngram_vectorizer.transform(df['X'])\n",
        "ngram_preds = log_model_ngram.predict(ngram_test)"
      ],
      "metadata": {
        "id": "N-6i46WHVhat"
      },
      "execution_count": null,
      "outputs": []
    },
    {
      "cell_type": "code",
      "source": [
        "print(np.array(df['y']))\n",
        "print(ngram_preds)"
      ],
      "metadata": {
        "colab": {
          "base_uri": "https://localhost:8080/"
        },
        "id": "gv9dnbXlWM5k",
        "outputId": "dc931103-6507-49ff-80c6-bc3d1be8990c"
      },
      "execution_count": null,
      "outputs": [
        {
          "output_type": "stream",
          "name": "stdout",
          "text": [
            "[0 0 0 0 0 0 0 1 1 1 1 1 1 1 1 1]\n",
            "[0. 0. 1. 1. 0. 1. 0. 0. 1. 0. 1. 0. 1. 1. 1. 1.]\n"
          ]
        }
      ]
    },
    {
      "cell_type": "code",
      "source": [
        "accuracy, precision, recall, f1 = calculate_metrics(df['y'], ngram_preds)"
      ],
      "metadata": {
        "colab": {
          "base_uri": "https://localhost:8080/"
        },
        "id": "zR4Ufbp6WIMC",
        "outputId": "44d9e19b-769d-40a9-a75e-fe2926fa42c1"
      },
      "execution_count": null,
      "outputs": [
        {
          "output_type": "stream",
          "name": "stdout",
          "text": [
            "Accuracy: 0.625\n",
            "Precision: 0.6666666666666666\n",
            "Recall: 0.6666666666666666\n",
            "F1 Score: 0.6666666666666666\n"
          ]
        }
      ]
    },
    {
      "cell_type": "markdown",
      "source": [
        "## Naive Bayes"
      ],
      "metadata": {
        "id": "Zl-VgO9SWoTg"
      }
    },
    {
      "cell_type": "markdown",
      "source": [
        "### TFIDF"
      ],
      "metadata": {
        "id": "oE5L_TTcWtjr"
      }
    },
    {
      "cell_type": "code",
      "source": [
        "nb_model_tfidf = joblib.load('/content/drive/MyDrive/DMA/naive_bayes_model_tfidf.joblib')\n",
        "tfidf_vectorizer = joblib.load('/content/drive/MyDrive/DMA/tfidf_vectorizer.joblib')"
      ],
      "metadata": {
        "id": "Duu1N-COWs3k"
      },
      "execution_count": null,
      "outputs": []
    },
    {
      "cell_type": "code",
      "source": [
        "tfidf_test = tfidf_vectorizer.transform(df['X'])\n",
        "tfidf_preds_nb = nb_model_tfidf.predict(tfidf_test)"
      ],
      "metadata": {
        "id": "N_2qmugOW5Gu"
      },
      "execution_count": null,
      "outputs": []
    },
    {
      "cell_type": "code",
      "source": [
        "print(np.array(df['y']))\n",
        "print(tfidf_preds_nb)"
      ],
      "metadata": {
        "colab": {
          "base_uri": "https://localhost:8080/"
        },
        "id": "tqvWH9m9XChI",
        "outputId": "01ffc145-b20c-4191-9d9d-7254390101f7"
      },
      "execution_count": null,
      "outputs": [
        {
          "output_type": "stream",
          "name": "stdout",
          "text": [
            "[0 0 0 0 0 0 0 1 1 1 1 1 1 1 1 1]\n",
            "[0. 0. 1. 1. 1. 1. 1. 1. 1. 1. 1. 1. 1. 1. 1. 1.]\n"
          ]
        }
      ]
    },
    {
      "cell_type": "code",
      "source": [
        "accuracy, precision, recall, f1 = calculate_metrics(df['y'], tfidf_preds_nb)"
      ],
      "metadata": {
        "colab": {
          "base_uri": "https://localhost:8080/"
        },
        "id": "IVoarfWIXEkU",
        "outputId": "f29d2ab3-1280-4025-d358-a53812a919c5"
      },
      "execution_count": null,
      "outputs": [
        {
          "output_type": "stream",
          "name": "stdout",
          "text": [
            "Accuracy: 0.6875\n",
            "Precision: 0.6428571428571429\n",
            "Recall: 1.0\n",
            "F1 Score: 0.782608695652174\n"
          ]
        }
      ]
    },
    {
      "cell_type": "markdown",
      "source": [
        "NGrams"
      ],
      "metadata": {
        "id": "vj-aryDBXS2p"
      }
    },
    {
      "cell_type": "code",
      "source": [
        "nb_model_ngrams = joblib.load('/content/drive/MyDrive/DMA/naive_bayes_model_ngrams.joblib')"
      ],
      "metadata": {
        "id": "j6_O_X5sXRHk"
      },
      "execution_count": null,
      "outputs": []
    },
    {
      "cell_type": "code",
      "source": [
        "ngram_test = ngram_vectorizer.transform(df['X'])\n",
        "nb_ngram_preds = nb_model_ngrams.predict(ngram_test)"
      ],
      "metadata": {
        "id": "G9L145_zXaV_"
      },
      "execution_count": null,
      "outputs": []
    },
    {
      "cell_type": "code",
      "source": [
        "print(np.array(df['y']))\n",
        "print(nb_ngram_preds)"
      ],
      "metadata": {
        "colab": {
          "base_uri": "https://localhost:8080/"
        },
        "id": "Uyz6Xz2qXiFW",
        "outputId": "fdeeeae2-c957-410d-964f-b2137d282c0a"
      },
      "execution_count": null,
      "outputs": [
        {
          "output_type": "stream",
          "name": "stdout",
          "text": [
            "[0 0 0 0 0 0 0 1 1 1 1 1 1 1 1 1]\n",
            "[0. 0. 1. 1. 0. 1. 0. 1. 1. 1. 1. 1. 1. 1. 1. 1.]\n"
          ]
        }
      ]
    },
    {
      "cell_type": "code",
      "source": [
        "accuracy, precision, recall, f1 = calculate_metrics(df['y'], nb_ngram_preds)"
      ],
      "metadata": {
        "colab": {
          "base_uri": "https://localhost:8080/"
        },
        "id": "Ep30Ap8GXkNa",
        "outputId": "b1fead8e-d715-4163-b187-a56975b4b0b9"
      },
      "execution_count": null,
      "outputs": [
        {
          "output_type": "stream",
          "name": "stdout",
          "text": [
            "Accuracy: 0.8125\n",
            "Precision: 0.75\n",
            "Recall: 1.0\n",
            "F1 Score: 0.8571428571428571\n"
          ]
        }
      ]
    },
    {
      "cell_type": "markdown",
      "source": [
        "## Bert"
      ],
      "metadata": {
        "id": "Y1X9fokuYsGG"
      }
    },
    {
      "cell_type": "code",
      "source": [
        "bert_model = torch.load('/content/drive/MyDrive/DMA/bert_model.pth')"
      ],
      "metadata": {
        "id": "h6dh1kXJXlpl"
      },
      "execution_count": null,
      "outputs": []
    },
    {
      "cell_type": "code",
      "source": [
        "test_encodings = tokenizer(df['X'].tolist(), truncation=True, padding=True, max_length=128)\n",
        "test_dataset = TensorDataset(torch.tensor(test_encodings['input_ids']),\n",
        "                             torch.tensor(test_encodings['attention_mask']))\n",
        "test_loader = DataLoader(test_dataset, batch_size=8, shuffle=False)"
      ],
      "metadata": {
        "id": "Cpu9cK86YF2m"
      },
      "execution_count": null,
      "outputs": []
    },
    {
      "cell_type": "code",
      "source": [
        "# Testing\n",
        "device = torch.device('cuda' if torch.cuda.is_available() else 'cpu')\n",
        "bert_model.eval()\n",
        "test_preds = []\n",
        "with torch.no_grad():\n",
        "    for batch in test_loader:\n",
        "        input_ids, attention_mask = batch\n",
        "        input_ids, attention_mask = input_ids.to(device), attention_mask.to(device)\n",
        "        outputs = bert_model(input_ids, attention_mask=attention_mask)\n",
        "        logits = outputs.logits\n",
        "        _, predicted_labels = torch.max(logits, 1)\n",
        "        test_preds.extend(predicted_labels.cpu().numpy())"
      ],
      "metadata": {
        "id": "HT5gZIy7YZre"
      },
      "execution_count": null,
      "outputs": []
    },
    {
      "cell_type": "code",
      "source": [
        "print(np.array(df['y']))\n",
        "print(test_preds)"
      ],
      "metadata": {
        "colab": {
          "base_uri": "https://localhost:8080/"
        },
        "id": "udF7ciamY9rU",
        "outputId": "6bf43005-f43a-4601-e8c6-caa22c8e0b64"
      },
      "execution_count": null,
      "outputs": [
        {
          "output_type": "stream",
          "name": "stdout",
          "text": [
            "[0 0 0 0 0 0 0 1 1 1 1 1 1 1 1 1]\n",
            "[0, 0, 1, 1, 0, 1, 1, 0, 1, 0, 1, 1, 1, 1, 1, 1]\n"
          ]
        }
      ]
    },
    {
      "cell_type": "code",
      "source": [
        "accuracy, precision, recall, f1 = calculate_metrics(df['y'], test_preds)"
      ],
      "metadata": {
        "colab": {
          "base_uri": "https://localhost:8080/"
        },
        "id": "5hMD6G1FZGr1",
        "outputId": "3c439655-ca4e-40e2-a609-94dfa302f85d"
      },
      "execution_count": null,
      "outputs": [
        {
          "output_type": "stream",
          "name": "stdout",
          "text": [
            "Accuracy: 0.625\n",
            "Precision: 0.6363636363636364\n",
            "Recall: 0.7777777777777778\n",
            "F1 Score: 0.7000000000000001\n"
          ]
        }
      ]
    },
    {
      "cell_type": "code",
      "source": [],
      "metadata": {
        "id": "e1OgmjliZJPh"
      },
      "execution_count": null,
      "outputs": []
    }
  ]
}